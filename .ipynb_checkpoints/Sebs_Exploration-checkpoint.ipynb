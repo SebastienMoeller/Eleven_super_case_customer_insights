{
 "cells": [
  {
   "cell_type": "markdown",
   "metadata": {},
   "source": [
    "# Importing Libraries"
   ]
  },
  {
   "cell_type": "code",
   "execution_count": 1,
   "metadata": {
    "collapsed": true
   },
   "outputs": [],
   "source": [
    "import pandas as pd\n",
    "from os import listdir\n",
    "from os.path import isfile, join"
   ]
  },
  {
   "cell_type": "markdown",
   "metadata": {},
   "source": [
    "# File Dimensions"
   ]
  },
  {
   "cell_type": "code",
   "execution_count": 10,
   "metadata": {},
   "outputs": [
    {
     "name": "stdout",
     "output_type": "stream",
     "text": [
      "non-log file  1 :  TABLE_CONVERSION.csv\n",
      "it has:  580404 lines\n",
      "non-log file  2 :  CLIENTS.csv\n",
      "it has:  3125800 lines\n",
      "log file  1 :  LOG_WEB_201710.csv\n",
      "it has:  3301363 lines\n",
      "log file  2 :  LOG_WEB_201711.csv\n",
      "it has:  5055599 lines\n",
      "non-log file  3 :  CMD.csv\n",
      "it has:  7323227 lines\n",
      "log file  3 :  LOG_WEB_201712.csv\n",
      "it has:  4535451 lines\n",
      "log file  4 :  LOG_WEB_201708.csv\n",
      "it has:  2189118 lines\n",
      "log file  5 :  LOG_WEB_201709.csv\n",
      "it has:  2874217 lines\n",
      "log file  6 :  LOG_WEB_201801.csv\n"
     ]
    },
    {
     "name": "stderr",
     "output_type": "stream",
     "text": [
      "/anaconda3/lib/python3.6/site-packages/IPython/core/interactiveshell.py:2698: DtypeWarning: Columns (6) have mixed types. Specify dtype option on import or set low_memory=False.\n",
      "  interactivity=interactivity, compiler=compiler, result=result)\n"
     ]
    },
    {
     "name": "stdout",
     "output_type": "stream",
     "text": [
      "it has:  8450825 lines\n",
      "log file  7 :  LOG_WEB_201802.csv\n",
      "it has:  6063362 lines\n",
      "log file  8 :  LOG_WEB_201803.csv\n",
      "it has:  2739719 lines\n"
     ]
    }
   ],
   "source": [
    "data_path = 'Data/'\n",
    "onlyfiles = [f for f in listdir(data_path) if isfile(join(data_path, f))]\n",
    "log_i = 0\n",
    "file_i = 0\n",
    "\n",
    "for file in onlyfiles:\n",
    "    if file[:3] == 'LOG':\n",
    "        log_i += 1\n",
    "        print('log file ', log_i, ': ', file)\n",
    "    else:\n",
    "        file_i += 1\n",
    "        print('non-log file ', file_i, ': ', file)\n",
    "    print('it has: ', len(pd.read_csv(data_path + file, sep = ';', error_bad_lines = False)), 'lines')"
   ]
  },
  {
   "cell_type": "markdown",
   "metadata": {},
   "source": [
    "# LOG Exploration"
   ]
  },
  {
   "cell_type": "code",
   "execution_count": 32,
   "metadata": {},
   "outputs": [],
   "source": [
    "data_201708 = pd.read_csv(data_path + 'LOG_WEB_201708.csv', sep=';')"
   ]
  },
  {
   "cell_type": "code",
   "execution_count": 25,
   "metadata": {},
   "outputs": [
    {
     "data": {
      "text/html": [
       "<div>\n",
       "<style>\n",
       "    .dataframe thead tr:only-child th {\n",
       "        text-align: right;\n",
       "    }\n",
       "\n",
       "    .dataframe thead th {\n",
       "        text-align: left;\n",
       "    }\n",
       "\n",
       "    .dataframe tbody tr th {\n",
       "        vertical-align: top;\n",
       "    }\n",
       "</style>\n",
       "<table border=\"1\" class=\"dataframe\">\n",
       "  <thead>\n",
       "    <tr style=\"text-align: right;\">\n",
       "      <th></th>\n",
       "      <th>Unnamed: 0</th>\n",
       "      <th>VISITOR_ID</th>\n",
       "      <th>CONNECTED_SESSION</th>\n",
       "      <th>ID_SESSION</th>\n",
       "      <th>SESSION_START_DATE</th>\n",
       "      <th>EVENT_DATE</th>\n",
       "      <th>PAGES</th>\n",
       "      <th>GLOBAL_SOURCES</th>\n",
       "      <th>DEVICE_TYPE</th>\n",
       "      <th>DEVICE_MODEL</th>\n",
       "      <th>LOADINGS</th>\n",
       "    </tr>\n",
       "  </thead>\n",
       "  <tbody>\n",
       "    <tr>\n",
       "      <th>0</th>\n",
       "      <td>0</td>\n",
       "      <td>381225</td>\n",
       "      <td>OUI</td>\n",
       "      <td>1</td>\n",
       "      <td>2017-08-08 00:02:06</td>\n",
       "      <td>2017-08-08 00:02:06</td>\n",
       "      <td>accueil</td>\n",
       "      <td>Liens Sponsorisés</td>\n",
       "      <td>Smartphone</td>\n",
       "      <td>NaN</td>\n",
       "      <td>1</td>\n",
       "    </tr>\n",
       "    <tr>\n",
       "      <th>1</th>\n",
       "      <td>1</td>\n",
       "      <td>563053</td>\n",
       "      <td>OUI</td>\n",
       "      <td>13</td>\n",
       "      <td>2017-08-08 00:01:32</td>\n",
       "      <td>2017-08-08 00:03:27</td>\n",
       "      <td>accueil</td>\n",
       "      <td>Accès Direct</td>\n",
       "      <td>Ordinateur</td>\n",
       "      <td>NaN</td>\n",
       "      <td>1</td>\n",
       "    </tr>\n",
       "    <tr>\n",
       "      <th>2</th>\n",
       "      <td>2</td>\n",
       "      <td>563053</td>\n",
       "      <td>OUI</td>\n",
       "      <td>13</td>\n",
       "      <td>2017-08-08 00:01:32</td>\n",
       "      <td>2017-08-08 00:22:04</td>\n",
       "      <td>accueil</td>\n",
       "      <td>Accès Direct</td>\n",
       "      <td>Ordinateur</td>\n",
       "      <td>NaN</td>\n",
       "      <td>1</td>\n",
       "    </tr>\n",
       "    <tr>\n",
       "      <th>3</th>\n",
       "      <td>3</td>\n",
       "      <td>706588</td>\n",
       "      <td>OUI</td>\n",
       "      <td>23</td>\n",
       "      <td>2017-08-08 00:01:29</td>\n",
       "      <td>2017-08-08 00:01:32</td>\n",
       "      <td>accueil</td>\n",
       "      <td>Accès Direct</td>\n",
       "      <td>Ordinateur</td>\n",
       "      <td>NaN</td>\n",
       "      <td>1</td>\n",
       "    </tr>\n",
       "    <tr>\n",
       "      <th>4</th>\n",
       "      <td>4</td>\n",
       "      <td>0</td>\n",
       "      <td>NON</td>\n",
       "      <td>27</td>\n",
       "      <td>2017-08-08 00:01:30</td>\n",
       "      <td>2017-08-08 00:14:08</td>\n",
       "      <td>accueil</td>\n",
       "      <td>Accès Direct</td>\n",
       "      <td>Ordinateur</td>\n",
       "      <td>NaN</td>\n",
       "      <td>1</td>\n",
       "    </tr>\n",
       "  </tbody>\n",
       "</table>\n",
       "</div>"
      ],
      "text/plain": [
       "   Unnamed: 0  VISITOR_ID CONNECTED_SESSION  ID_SESSION   SESSION_START_DATE  \\\n",
       "0           0      381225               OUI           1  2017-08-08 00:02:06   \n",
       "1           1      563053               OUI          13  2017-08-08 00:01:32   \n",
       "2           2      563053               OUI          13  2017-08-08 00:01:32   \n",
       "3           3      706588               OUI          23  2017-08-08 00:01:29   \n",
       "4           4           0               NON          27  2017-08-08 00:01:30   \n",
       "\n",
       "            EVENT_DATE    PAGES     GLOBAL_SOURCES DEVICE_TYPE DEVICE_MODEL  \\\n",
       "0  2017-08-08 00:02:06  accueil  Liens Sponsorisés  Smartphone          NaN   \n",
       "1  2017-08-08 00:03:27  accueil       Accès Direct  Ordinateur          NaN   \n",
       "2  2017-08-08 00:22:04  accueil       Accès Direct  Ordinateur          NaN   \n",
       "3  2017-08-08 00:01:32  accueil       Accès Direct  Ordinateur          NaN   \n",
       "4  2017-08-08 00:14:08  accueil       Accès Direct  Ordinateur          NaN   \n",
       "\n",
       "   LOADINGS  \n",
       "0         1  \n",
       "1         1  \n",
       "2         1  \n",
       "3         1  \n",
       "4         1  "
      ]
     },
     "execution_count": 25,
     "metadata": {},
     "output_type": "execute_result"
    }
   ],
   "source": [
    "data_201708.head()"
   ]
  },
  {
   "cell_type": "markdown",
   "metadata": {},
   "source": [
    "## Meta Data\n",
    "\n",
    "Unamed:0 - Python reading problem\n",
    "\n",
    "VISITOR_ID - account_number, if not logged in = 0\n",
    "\n",
    "CONNECTED_SESSION - T/F: logged in or not\n",
    "\n",
    "ID_SESSION - Single connected session, if VISITOR_ID = 0 it is harder to interpret\n",
    "\n",
    "SESSION_START_DATE - time user logged in\n",
    "\n",
    "EVENT_DATE - Triggered by ???\n",
    "\n",
    "PAGES - Site visited\n",
    "\n",
    "GLOBAL_SOURCES - Where they came from\n",
    "\n",
    "DEVICE_TYPE - PC/Table/ect.\n",
    "\n",
    "DEVICE_MODEL - NaN/iPad/iPhone/\n",
    "\n",
    "LOADINGS - Refreshed pages"
   ]
  },
  {
   "cell_type": "markdown",
   "metadata": {},
   "source": [
    "## Dimensions"
   ]
  },
  {
   "cell_type": "code",
   "execution_count": 78,
   "metadata": {},
   "outputs": [
    {
     "data": {
      "text/plain": [
       "1514    726\n",
       "1110    635\n",
       "1283    583\n",
       "1754    495\n",
       "3460    492\n",
       "Name: ID_SESSION, dtype: int64"
      ]
     },
     "execution_count": 78,
     "metadata": {},
     "output_type": "execute_result"
    }
   ],
   "source": [
    "data_201708.ID_SESSION.value_counts()[:5]"
   ]
  },
  {
   "cell_type": "code",
   "execution_count": 36,
   "metadata": {},
   "outputs": [
    {
     "data": {
      "text/plain": [
       "accueil                                          230039\n",
       "mon panier                                       139957\n",
       "evenement/jeu                                     99125\n",
       "header::moteur de recherche::page de resultat     77569\n",
       "ajout au panier                                   76506\n",
       "Name: PAGES, dtype: int64"
      ]
     },
     "execution_count": 36,
     "metadata": {},
     "output_type": "execute_result"
    }
   ],
   "source": [
    "data_201708['PAGES'].value_counts()[0:5]"
   ]
  },
  {
   "cell_type": "markdown",
   "metadata": {},
   "source": [
    "## Looking at SESSION 3460's visit"
   ]
  },
  {
   "cell_type": "code",
   "execution_count": 81,
   "metadata": {
    "scrolled": false
   },
   "outputs": [
    {
     "data": {
      "text/html": [
       "<div>\n",
       "<style>\n",
       "    .dataframe thead tr:only-child th {\n",
       "        text-align: right;\n",
       "    }\n",
       "\n",
       "    .dataframe thead th {\n",
       "        text-align: left;\n",
       "    }\n",
       "\n",
       "    .dataframe tbody tr th {\n",
       "        vertical-align: top;\n",
       "    }\n",
       "</style>\n",
       "<table border=\"1\" class=\"dataframe\">\n",
       "  <thead>\n",
       "    <tr style=\"text-align: right;\">\n",
       "      <th></th>\n",
       "      <th>Unnamed: 0</th>\n",
       "      <th>VISITOR_ID</th>\n",
       "      <th>CONNECTED_SESSION</th>\n",
       "      <th>ID_SESSION</th>\n",
       "      <th>SESSION_START_DATE</th>\n",
       "      <th>EVENT_DATE</th>\n",
       "      <th>PAGES</th>\n",
       "      <th>GLOBAL_SOURCES</th>\n",
       "      <th>DEVICE_TYPE</th>\n",
       "      <th>DEVICE_MODEL</th>\n",
       "      <th>LOADINGS</th>\n",
       "    </tr>\n",
       "  </thead>\n",
       "  <tbody>\n",
       "    <tr>\n",
       "      <th>25471</th>\n",
       "      <td>25471</td>\n",
       "      <td>0</td>\n",
       "      <td>NON</td>\n",
       "      <td>3460</td>\n",
       "      <td>2017-08-10 08:04:05</td>\n",
       "      <td>2017-08-10 08:04:05</td>\n",
       "      <td>accueil</td>\n",
       "      <td>Accès Direct</td>\n",
       "      <td>Ordinateur</td>\n",
       "      <td>NaN</td>\n",
       "      <td>1</td>\n",
       "    </tr>\n",
       "    <tr>\n",
       "      <th>25472</th>\n",
       "      <td>25472</td>\n",
       "      <td>0</td>\n",
       "      <td>NON</td>\n",
       "      <td>3460</td>\n",
       "      <td>2017-08-10 08:04:05</td>\n",
       "      <td>2017-08-10 08:05:23</td>\n",
       "      <td>accueil</td>\n",
       "      <td>Accès Direct</td>\n",
       "      <td>Ordinateur</td>\n",
       "      <td>NaN</td>\n",
       "      <td>1</td>\n",
       "    </tr>\n",
       "    <tr>\n",
       "      <th>25473</th>\n",
       "      <td>25473</td>\n",
       "      <td>0</td>\n",
       "      <td>NON</td>\n",
       "      <td>3460</td>\n",
       "      <td>2017-08-10 08:04:05</td>\n",
       "      <td>2017-08-10 08:07:36</td>\n",
       "      <td>accueil</td>\n",
       "      <td>Accès Direct</td>\n",
       "      <td>Ordinateur</td>\n",
       "      <td>NaN</td>\n",
       "      <td>1</td>\n",
       "    </tr>\n",
       "    <tr>\n",
       "      <th>25474</th>\n",
       "      <td>25474</td>\n",
       "      <td>0</td>\n",
       "      <td>NON</td>\n",
       "      <td>3460</td>\n",
       "      <td>2017-08-10 08:04:05</td>\n",
       "      <td>2017-08-10 08:08:11</td>\n",
       "      <td>accueil</td>\n",
       "      <td>Accès Direct</td>\n",
       "      <td>Ordinateur</td>\n",
       "      <td>NaN</td>\n",
       "      <td>1</td>\n",
       "    </tr>\n",
       "    <tr>\n",
       "      <th>25475</th>\n",
       "      <td>25475</td>\n",
       "      <td>0</td>\n",
       "      <td>NON</td>\n",
       "      <td>3460</td>\n",
       "      <td>2017-08-10 08:04:05</td>\n",
       "      <td>2017-08-10 08:08:30</td>\n",
       "      <td>accueil</td>\n",
       "      <td>Accès Direct</td>\n",
       "      <td>Ordinateur</td>\n",
       "      <td>NaN</td>\n",
       "      <td>1</td>\n",
       "    </tr>\n",
       "  </tbody>\n",
       "</table>\n",
       "</div>"
      ],
      "text/plain": [
       "       Unnamed: 0  VISITOR_ID CONNECTED_SESSION  ID_SESSION  \\\n",
       "25471       25471           0               NON        3460   \n",
       "25472       25472           0               NON        3460   \n",
       "25473       25473           0               NON        3460   \n",
       "25474       25474           0               NON        3460   \n",
       "25475       25475           0               NON        3460   \n",
       "\n",
       "        SESSION_START_DATE           EVENT_DATE    PAGES GLOBAL_SOURCES  \\\n",
       "25471  2017-08-10 08:04:05  2017-08-10 08:04:05  accueil   Accès Direct   \n",
       "25472  2017-08-10 08:04:05  2017-08-10 08:05:23  accueil   Accès Direct   \n",
       "25473  2017-08-10 08:04:05  2017-08-10 08:07:36  accueil   Accès Direct   \n",
       "25474  2017-08-10 08:04:05  2017-08-10 08:08:11  accueil   Accès Direct   \n",
       "25475  2017-08-10 08:04:05  2017-08-10 08:08:30  accueil   Accès Direct   \n",
       "\n",
       "      DEVICE_TYPE DEVICE_MODEL  LOADINGS  \n",
       "25471  Ordinateur          NaN         1  \n",
       "25472  Ordinateur          NaN         1  \n",
       "25473  Ordinateur          NaN         1  \n",
       "25474  Ordinateur          NaN         1  \n",
       "25475  Ordinateur          NaN         1  "
      ]
     },
     "execution_count": 81,
     "metadata": {},
     "output_type": "execute_result"
    }
   ],
   "source": [
    "data_201708[data_201708.ID_SESSION == 3460].head()"
   ]
  },
  {
   "cell_type": "markdown",
   "metadata": {},
   "source": [
    "We have promo codes that indicate if a client used a catalogue or not. \n",
    "We assume that the majority of promo code users are catalogue.\n",
    "\n",
    "If we can establish the characteristics of catalogue users and define the population through a mathematical function. We can then use the same function for other clients to see if they are significantly different from the known catalogue users."
   ]
  },
  {
   "cell_type": "markdown",
   "metadata": {},
   "source": [
    "# CLIENTS exploration"
   ]
  },
  {
   "cell_type": "code",
   "execution_count": 99,
   "metadata": {},
   "outputs": [],
   "source": [
    "clients = pd.read_csv(data_path + 'clients.csv', sep = ';')\n",
    "clients = clients.loc[:, ~clients.columns.str.contains('^Unnamed')]"
   ]
  },
  {
   "cell_type": "code",
   "execution_count": 100,
   "metadata": {},
   "outputs": [
    {
     "data": {
      "text/html": [
       "<div>\n",
       "<style>\n",
       "    .dataframe thead tr:only-child th {\n",
       "        text-align: right;\n",
       "    }\n",
       "\n",
       "    .dataframe thead th {\n",
       "        text-align: left;\n",
       "    }\n",
       "\n",
       "    .dataframe tbody tr th {\n",
       "        vertical-align: top;\n",
       "    }\n",
       "</style>\n",
       "<table border=\"1\" class=\"dataframe\">\n",
       "  <thead>\n",
       "    <tr style=\"text-align: right;\">\n",
       "      <th></th>\n",
       "      <th>CLIENT_NUMBER</th>\n",
       "      <th>CREATION_DATE</th>\n",
       "      <th>GENDER</th>\n",
       "      <th>BIRTH_YEAR</th>\n",
       "      <th>ZIPCODE</th>\n",
       "    </tr>\n",
       "  </thead>\n",
       "  <tbody>\n",
       "    <tr>\n",
       "      <th>0</th>\n",
       "      <td>-2863680653264308222</td>\n",
       "      <td>2002-12-05</td>\n",
       "      <td>Mme</td>\n",
       "      <td>1955.0</td>\n",
       "      <td>68440</td>\n",
       "    </tr>\n",
       "    <tr>\n",
       "      <th>1</th>\n",
       "      <td>6104579344417272025</td>\n",
       "      <td>2002-12-05</td>\n",
       "      <td>Mme</td>\n",
       "      <td>NaN</td>\n",
       "      <td>24100</td>\n",
       "    </tr>\n",
       "    <tr>\n",
       "      <th>2</th>\n",
       "      <td>7514073921117581737</td>\n",
       "      <td>2002-12-05</td>\n",
       "      <td>Mme</td>\n",
       "      <td>1945.0</td>\n",
       "      <td>39240</td>\n",
       "    </tr>\n",
       "    <tr>\n",
       "      <th>3</th>\n",
       "      <td>-8702883778531324523</td>\n",
       "      <td>2002-12-05</td>\n",
       "      <td>Mme</td>\n",
       "      <td>NaN</td>\n",
       "      <td>42290</td>\n",
       "    </tr>\n",
       "    <tr>\n",
       "      <th>4</th>\n",
       "      <td>6338712688710833090</td>\n",
       "      <td>2003-10-06</td>\n",
       "      <td>Mme</td>\n",
       "      <td>1934.0</td>\n",
       "      <td>13006</td>\n",
       "    </tr>\n",
       "  </tbody>\n",
       "</table>\n",
       "</div>"
      ],
      "text/plain": [
       "         CLIENT_NUMBER CREATION_DATE GENDER  BIRTH_YEAR ZIPCODE\n",
       "0 -2863680653264308222    2002-12-05    Mme      1955.0   68440\n",
       "1  6104579344417272025    2002-12-05    Mme         NaN   24100\n",
       "2  7514073921117581737    2002-12-05    Mme      1945.0   39240\n",
       "3 -8702883778531324523    2002-12-05    Mme         NaN   42290\n",
       "4  6338712688710833090    2003-10-06    Mme      1934.0   13006"
      ]
     },
     "execution_count": 100,
     "metadata": {},
     "output_type": "execute_result"
    }
   ],
   "source": [
    "clients.head()"
   ]
  },
  {
   "cell_type": "code",
   "execution_count": 101,
   "metadata": {},
   "outputs": [
    {
     "data": {
      "text/plain": [
       "Mme              2714740\n",
       "M                 286650\n",
       "Mle               119070\n",
       "Ste                 2142\n",
       "MME                 1846\n",
       "Non Renseigne        805\n",
       "SOC                  545\n",
       "ARU                    1\n",
       "M.                     1\n",
       "Name: GENDER, dtype: int64"
      ]
     },
     "execution_count": 101,
     "metadata": {},
     "output_type": "execute_result"
    }
   ],
   "source": [
    "clients.GENDER.value_counts()"
   ]
  },
  {
   "cell_type": "code",
   "execution_count": 102,
   "metadata": {},
   "outputs": [
    {
     "data": {
      "text/plain": [
       "1950.0    45857\n",
       "1947.0    44576\n",
       "1948.0    44021\n",
       "1946.0    43073\n",
       "1949.0    42527\n",
       "Name: BIRTH_YEAR, dtype: int64"
      ]
     },
     "execution_count": 102,
     "metadata": {},
     "output_type": "execute_result"
    }
   ],
   "source": [
    "clients.BIRTH_YEAR.value_counts().head()"
   ]
  },
  {
   "cell_type": "code",
   "execution_count": 105,
   "metadata": {},
   "outputs": [
    {
     "data": {
      "text/plain": [
       "75015    19140\n",
       "75017    12012\n",
       "75014    10872\n",
       "92100    10516\n",
       "75016    10409\n",
       "Name: ZIPCODE, dtype: int64"
      ]
     },
     "execution_count": 105,
     "metadata": {},
     "output_type": "execute_result"
    }
   ],
   "source": [
    "clients.ZIPCODE.value_counts().head()"
   ]
  },
  {
   "cell_type": "markdown",
   "metadata": {},
   "source": [
    "# CMD exploration"
   ]
  },
  {
   "cell_type": "code",
   "execution_count": 66,
   "metadata": {},
   "outputs": [],
   "source": [
    "cmd = pd.read_csv(data_path + 'CMD.csv', sep = ';')\n",
    "cmd = cmd[cmd['ORDER_DATE'] >= '2017-08-01']"
   ]
  },
  {
   "cell_type": "code",
   "execution_count": 76,
   "metadata": {},
   "outputs": [
    {
     "data": {
      "text/plain": [
       "-7419682324447063482    1872\n",
       "-8029536810428513286    1801\n",
       "-954373211562525170     1588\n",
       " 6337010052583634555    1502\n",
       " 5852995387889251410     972\n",
       "Name: CLIENT_NUMBER, dtype: int64"
      ]
     },
     "execution_count": 76,
     "metadata": {},
     "output_type": "execute_result"
    }
   ],
   "source": [
    "cmd[cmd['CVIC'] == True]['CLIENT_NUMBER'].value_counts()[:5]"
   ]
  }
 ],
 "metadata": {
  "kernelspec": {
   "display_name": "Python 3",
   "language": "python",
   "name": "python3"
  },
  "language_info": {
   "codemirror_mode": {
    "name": "ipython",
    "version": 3
   },
   "file_extension": ".py",
   "mimetype": "text/x-python",
   "name": "python",
   "nbconvert_exporter": "python",
   "pygments_lexer": "ipython3",
   "version": "3.6.2"
  }
 },
 "nbformat": 4,
 "nbformat_minor": 2
}
