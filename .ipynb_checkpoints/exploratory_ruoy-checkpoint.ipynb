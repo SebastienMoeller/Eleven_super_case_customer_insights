{
 "cells": [
  {
   "cell_type": "code",
   "execution_count": 5,
   "metadata": {},
   "outputs": [],
   "source": [
    "import pandas as pd\n",
    "from os import listdir\n",
    "from os.path import isfile, join"
   ]
  },
  {
   "cell_type": "markdown",
   "metadata": {},
   "source": [
    "Loading in all data for expection:\n",
    "0. data volume\n",
    "1. field consistancy\n",
    "2. missing values anywhere at all\n",
    "3. data types\n",
    "4. basic visualisation for relevant cols\n",
    "5. etc"
   ]
  },
  {
   "cell_type": "code",
   "execution_count": 19,
   "metadata": {},
   "outputs": [],
   "source": [
    "data_path = 'data/'\n",
    "onlyfiles = [f for f in listdir(data_path) if isfile(join(data_path, f))]"
   ]
  },
  {
   "cell_type": "code",
   "execution_count": 27,
   "metadata": {},
   "outputs": [
    {
     "name": "stdout",
     "output_type": "stream",
     "text": [
      "the inspected non log file is :TABLE_CONVERSION.csv\n",
      "it has:  580404 lines\n",
      "the inspected non log file is :.DS_Store\n",
      "it has:  0 lines\n",
      "the inspected non log file is :CLIENTS.csv\n",
      "it has:  3125800 lines\n",
      "the inspected log file is: LOG_WEB_201710.csv\n",
      "it has:  3301363 lines\n",
      "the inspected log file is: LOG_WEB_201711.csv\n",
      "it has:  5055599 lines\n",
      "the inspected non log file is :CMD.csv\n",
      "it has:  7323227 lines\n",
      "the inspected log file is: LOG_WEB_201712.csv\n",
      "it has:  4535451 lines\n",
      "the inspected log file is: LOG_WEB_201708.csv\n",
      "it has:  2189118 lines\n",
      "the inspected log file is: LOG_WEB_201709.csv\n",
      "it has:  2874217 lines\n",
      "the inspected log file is: LOG_WEB_201801.csv\n"
     ]
    },
    {
     "name": "stderr",
     "output_type": "stream",
     "text": [
      "/Users/ruoyangzhang/anaconda3/lib/python3.6/site-packages/IPython/core/interactiveshell.py:2728: DtypeWarning: Columns (6) have mixed types. Specify dtype option on import or set low_memory=False.\n",
      "  interactivity=interactivity, compiler=compiler, result=result)\n"
     ]
    },
    {
     "name": "stdout",
     "output_type": "stream",
     "text": [
      "it has:  8450825 lines\n",
      "the inspected log file is: LOG_WEB_201802.csv\n",
      "it has:  6063362 lines\n",
      "the inspected log file is: LOG_WEB_201803.csv\n",
      "it has:  2739719 lines\n"
     ]
    }
   ],
   "source": [
    "for file in onlyfiles:\n",
    "    if file[:3] == 'LOG':\n",
    "        print('the inspected log file is: ' + file)\n",
    "    else:\n",
    "        print('the inspected non log file is :' + file)\n",
    "    print('it has: ', len(pd.read_csv('data/' + file, sep = ';', error_bad_lines = False)), 'lines')"
   ]
  },
  {
   "cell_type": "markdown",
   "metadata": {},
   "source": [
    "these files are rather large containing many lines, we should use a subset to test the robustness of the classification"
   ]
  },
  {
   "cell_type": "code",
   "execution_count": 24,
   "metadata": {},
   "outputs": [],
   "source": [
    "data_201708 = pd.read_csv('data/LOG_WEB_201708.csv', sep=';')"
   ]
  },
  {
   "cell_type": "code",
   "execution_count": 35,
   "metadata": {},
   "outputs": [],
   "source": [
    "colns = sorted([col for col in list(data_201708.columns) if col[:3] != 'Unn'])"
   ]
  },
  {
   "cell_type": "code",
   "execution_count": 37,
   "metadata": {},
   "outputs": [
    {
     "name": "stdout",
     "output_type": "stream",
     "text": [
      "the columns match the example columns:  True\n",
      "the columns match the example columns:  True\n",
      "the columns match the example columns:  True\n",
      "the columns match the example columns:  True\n",
      "the columns match the example columns:  True\n"
     ]
    },
    {
     "name": "stderr",
     "output_type": "stream",
     "text": [
      "/Users/ruoyangzhang/anaconda3/lib/python3.6/site-packages/IPython/core/interactiveshell.py:2728: DtypeWarning: Columns (6) have mixed types. Specify dtype option on import or set low_memory=False.\n",
      "  interactivity=interactivity, compiler=compiler, result=result)\n"
     ]
    },
    {
     "name": "stdout",
     "output_type": "stream",
     "text": [
      "the columns match the example columns:  True\n",
      "the columns match the example columns:  True\n",
      "the columns match the example columns:  True\n"
     ]
    }
   ],
   "source": [
    "for file in onlyfiles:\n",
    "    if file[:3] == 'LOG':\n",
    "        colns_check = sorted([col for col in list(pd.read_csv('data/' + file, sep = ';').columns) if col[:3] != 'Unn'])\n",
    "        print('the columns match the example columns: ', colns_check == colns)\n",
    "        if colns_check != colns:\n",
    "            print('the file with unmatched cols is: ', file)"
   ]
  },
  {
   "cell_type": "markdown",
   "metadata": {},
   "source": [
    "So the 201709 file is not matched, let's take a look at what's going on"
   ]
  },
  {
   "cell_type": "code",
   "execution_count": 33,
   "metadata": {},
   "outputs": [],
   "source": [
    "data_201709 = pd.read_csv('data/LOG_WEB_201709.csv', sep=';')"
   ]
  },
  {
   "cell_type": "code",
   "execution_count": 34,
   "metadata": {},
   "outputs": [
    {
     "data": {
      "text/html": [
       "<div>\n",
       "<style scoped>\n",
       "    .dataframe tbody tr th:only-of-type {\n",
       "        vertical-align: middle;\n",
       "    }\n",
       "\n",
       "    .dataframe tbody tr th {\n",
       "        vertical-align: top;\n",
       "    }\n",
       "\n",
       "    .dataframe thead th {\n",
       "        text-align: right;\n",
       "    }\n",
       "</style>\n",
       "<table border=\"1\" class=\"dataframe\">\n",
       "  <thead>\n",
       "    <tr style=\"text-align: right;\">\n",
       "      <th></th>\n",
       "      <th>Unnamed: 0</th>\n",
       "      <th>Unnamed: 0.1</th>\n",
       "      <th>VISITOR_ID</th>\n",
       "      <th>CONNECTED_SESSION</th>\n",
       "      <th>ID_SESSION</th>\n",
       "      <th>SESSION_START_DATE</th>\n",
       "      <th>EVENT_DATE</th>\n",
       "      <th>PAGES</th>\n",
       "      <th>GLOBAL_SOURCES</th>\n",
       "      <th>DEVICE_TYPE</th>\n",
       "      <th>DEVICE_MODEL</th>\n",
       "      <th>LOADINGS</th>\n",
       "    </tr>\n",
       "  </thead>\n",
       "  <tbody>\n",
       "    <tr>\n",
       "      <th>0</th>\n",
       "      <td>0</td>\n",
       "      <td>0</td>\n",
       "      <td>433347</td>\n",
       "      <td>OUI</td>\n",
       "      <td>3</td>\n",
       "      <td>2017-09-01 00:00:12</td>\n",
       "      <td>2017-09-01 00:00:12</td>\n",
       "      <td>accueil</td>\n",
       "      <td>Email marketing</td>\n",
       "      <td>Ordinateur</td>\n",
       "      <td>NaN</td>\n",
       "      <td>1</td>\n",
       "    </tr>\n",
       "    <tr>\n",
       "      <th>1</th>\n",
       "      <td>1</td>\n",
       "      <td>1</td>\n",
       "      <td>433347</td>\n",
       "      <td>OUI</td>\n",
       "      <td>3</td>\n",
       "      <td>2017-09-01 00:00:12</td>\n",
       "      <td>2017-09-01 00:07:23</td>\n",
       "      <td>accueil</td>\n",
       "      <td>Email marketing</td>\n",
       "      <td>Ordinateur</td>\n",
       "      <td>NaN</td>\n",
       "      <td>1</td>\n",
       "    </tr>\n",
       "    <tr>\n",
       "      <th>2</th>\n",
       "      <td>2</td>\n",
       "      <td>10</td>\n",
       "      <td>433347</td>\n",
       "      <td>OUI</td>\n",
       "      <td>3</td>\n",
       "      <td>2017-09-01 00:00:12</td>\n",
       "      <td>2017-09-01 00:16:51</td>\n",
       "      <td>accueil</td>\n",
       "      <td>Email marketing</td>\n",
       "      <td>Ordinateur</td>\n",
       "      <td>NaN</td>\n",
       "      <td>1</td>\n",
       "    </tr>\n",
       "    <tr>\n",
       "      <th>3</th>\n",
       "      <td>3</td>\n",
       "      <td>13</td>\n",
       "      <td>433347</td>\n",
       "      <td>OUI</td>\n",
       "      <td>3</td>\n",
       "      <td>2017-09-01 00:00:12</td>\n",
       "      <td>2017-09-01 00:19:24</td>\n",
       "      <td>accueil</td>\n",
       "      <td>Email marketing</td>\n",
       "      <td>Ordinateur</td>\n",
       "      <td>NaN</td>\n",
       "      <td>1</td>\n",
       "    </tr>\n",
       "    <tr>\n",
       "      <th>4</th>\n",
       "      <td>4</td>\n",
       "      <td>15</td>\n",
       "      <td>433347</td>\n",
       "      <td>OUI</td>\n",
       "      <td>3</td>\n",
       "      <td>2017-09-01 00:00:12</td>\n",
       "      <td>2017-09-01 00:21:12</td>\n",
       "      <td>accueil</td>\n",
       "      <td>Email marketing</td>\n",
       "      <td>Ordinateur</td>\n",
       "      <td>NaN</td>\n",
       "      <td>1</td>\n",
       "    </tr>\n",
       "  </tbody>\n",
       "</table>\n",
       "</div>"
      ],
      "text/plain": [
       "   Unnamed: 0  Unnamed: 0.1  VISITOR_ID CONNECTED_SESSION  ID_SESSION  \\\n",
       "0           0             0      433347               OUI           3   \n",
       "1           1             1      433347               OUI           3   \n",
       "2           2            10      433347               OUI           3   \n",
       "3           3            13      433347               OUI           3   \n",
       "4           4            15      433347               OUI           3   \n",
       "\n",
       "    SESSION_START_DATE           EVENT_DATE    PAGES   GLOBAL_SOURCES  \\\n",
       "0  2017-09-01 00:00:12  2017-09-01 00:00:12  accueil  Email marketing   \n",
       "1  2017-09-01 00:00:12  2017-09-01 00:07:23  accueil  Email marketing   \n",
       "2  2017-09-01 00:00:12  2017-09-01 00:16:51  accueil  Email marketing   \n",
       "3  2017-09-01 00:00:12  2017-09-01 00:19:24  accueil  Email marketing   \n",
       "4  2017-09-01 00:00:12  2017-09-01 00:21:12  accueil  Email marketing   \n",
       "\n",
       "  DEVICE_TYPE DEVICE_MODEL  LOADINGS  \n",
       "0  Ordinateur          NaN         1  \n",
       "1  Ordinateur          NaN         1  \n",
       "2  Ordinateur          NaN         1  \n",
       "3  Ordinateur          NaN         1  \n",
       "4  Ordinateur          NaN         1  "
      ]
     },
     "execution_count": 34,
     "metadata": {},
     "output_type": "execute_result"
    }
   ],
   "source": [
    "data_201709.head()"
   ]
  },
  {
   "cell_type": "code",
   "execution_count": null,
   "metadata": {},
   "outputs": [],
   "source": []
  }
 ],
 "metadata": {
  "kernelspec": {
   "display_name": "Python 3",
   "language": "python",
   "name": "python3"
  },
  "language_info": {
   "codemirror_mode": {
    "name": "ipython",
    "version": 3
   },
   "file_extension": ".py",
   "mimetype": "text/x-python",
   "name": "python",
   "nbconvert_exporter": "python",
   "pygments_lexer": "ipython3",
   "version": "3.6.4"
  }
 },
 "nbformat": 4,
 "nbformat_minor": 2
}
