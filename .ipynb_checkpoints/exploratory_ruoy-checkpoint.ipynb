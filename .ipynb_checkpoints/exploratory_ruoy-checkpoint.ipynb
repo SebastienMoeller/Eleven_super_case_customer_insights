{
 "cells": [
  {
   "cell_type": "code",
   "execution_count": 108,
   "metadata": {},
   "outputs": [],
   "source": [
    "import pandas as pd\n",
    "from os import listdir\n",
    "from os.path import isfile, join\n",
    "from multiprocessing import Pool\n",
    "from tqdm import tqdm"
   ]
  },
  {
   "cell_type": "markdown",
   "metadata": {},
   "source": [
    "Loading in all data for inspection:\n",
    "0. data volume\n",
    "1. field consistancy\n",
    "2. missing values anywhere at all\n",
    "3. data types\n",
    "4. basic visualisation for relevant cols\n",
    "5. etc"
   ]
  },
  {
   "cell_type": "code",
   "execution_count": 19,
   "metadata": {},
   "outputs": [],
   "source": [
    "data_path = 'data/'\n",
    "onlyfiles = [f for f in listdir(data_path) if isfile(join(data_path, f))]"
   ]
  },
  {
   "cell_type": "code",
   "execution_count": 27,
   "metadata": {},
   "outputs": [
    {
     "name": "stdout",
     "output_type": "stream",
     "text": [
      "the inspected non log file is :TABLE_CONVERSION.csv\n",
      "it has:  580404 lines\n",
      "the inspected non log file is :.DS_Store\n",
      "it has:  0 lines\n",
      "the inspected non log file is :CLIENTS.csv\n",
      "it has:  3125800 lines\n",
      "the inspected log file is: LOG_WEB_201710.csv\n",
      "it has:  3301363 lines\n",
      "the inspected log file is: LOG_WEB_201711.csv\n",
      "it has:  5055599 lines\n",
      "the inspected non log file is :CMD.csv\n",
      "it has:  7323227 lines\n",
      "the inspected log file is: LOG_WEB_201712.csv\n",
      "it has:  4535451 lines\n",
      "the inspected log file is: LOG_WEB_201708.csv\n",
      "it has:  2189118 lines\n",
      "the inspected log file is: LOG_WEB_201709.csv\n",
      "it has:  2874217 lines\n",
      "the inspected log file is: LOG_WEB_201801.csv\n"
     ]
    },
    {
     "name": "stderr",
     "output_type": "stream",
     "text": [
      "/Users/ruoyangzhang/anaconda3/lib/python3.6/site-packages/IPython/core/interactiveshell.py:2728: DtypeWarning: Columns (6) have mixed types. Specify dtype option on import or set low_memory=False.\n",
      "  interactivity=interactivity, compiler=compiler, result=result)\n"
     ]
    },
    {
     "name": "stdout",
     "output_type": "stream",
     "text": [
      "it has:  8450825 lines\n",
      "the inspected log file is: LOG_WEB_201802.csv\n",
      "it has:  6063362 lines\n",
      "the inspected log file is: LOG_WEB_201803.csv\n",
      "it has:  2739719 lines\n"
     ]
    }
   ],
   "source": [
    "for file in onlyfiles:\n",
    "    if file[:3] == 'LOG':\n",
    "        print('the inspected log file is: ' + file)\n",
    "    else:\n",
    "        print('the inspected non log file is :' + file)\n",
    "    print('it has: ', len(pd.read_csv('data/' + file, sep = ';', error_bad_lines = False)), 'lines')"
   ]
  },
  {
   "cell_type": "markdown",
   "metadata": {},
   "source": [
    "these files are rather large containing many lines, we should use a subset to test the robustness of the classification"
   ]
  },
  {
   "cell_type": "code",
   "execution_count": 24,
   "metadata": {},
   "outputs": [],
   "source": [
    "data_201708 = pd.read_csv('data/LOG_WEB_201708.csv', sep=';')"
   ]
  },
  {
   "cell_type": "code",
   "execution_count": 35,
   "metadata": {},
   "outputs": [],
   "source": [
    "colns = sorted([col for col in list(data_201708.columns) if col[:3] != 'Unn'])"
   ]
  },
  {
   "cell_type": "code",
   "execution_count": 37,
   "metadata": {},
   "outputs": [
    {
     "name": "stdout",
     "output_type": "stream",
     "text": [
      "the columns match the example columns:  True\n",
      "the columns match the example columns:  True\n",
      "the columns match the example columns:  True\n",
      "the columns match the example columns:  True\n",
      "the columns match the example columns:  True\n"
     ]
    },
    {
     "name": "stderr",
     "output_type": "stream",
     "text": [
      "/Users/ruoyangzhang/anaconda3/lib/python3.6/site-packages/IPython/core/interactiveshell.py:2728: DtypeWarning: Columns (6) have mixed types. Specify dtype option on import or set low_memory=False.\n",
      "  interactivity=interactivity, compiler=compiler, result=result)\n"
     ]
    },
    {
     "name": "stdout",
     "output_type": "stream",
     "text": [
      "the columns match the example columns:  True\n",
      "the columns match the example columns:  True\n",
      "the columns match the example columns:  True\n"
     ]
    }
   ],
   "source": [
    "for file in onlyfiles:\n",
    "    if file[:3] == 'LOG':\n",
    "        colns_check = sorted([col for col in list(pd.read_csv('data/' + file, sep = ';').columns) if col[:3] != 'Unn'])\n",
    "        print('the columns match the example columns: ', colns_check == colns)\n",
    "        if colns_check != colns:\n",
    "            print('the file with unmatched cols is: ', file)"
   ]
  },
  {
   "cell_type": "markdown",
   "metadata": {},
   "source": [
    "So the 201709 file is not matched, let's take a look at what's going on"
   ]
  },
  {
   "cell_type": "code",
   "execution_count": 33,
   "metadata": {},
   "outputs": [],
   "source": [
    "data_201709 = pd.read_csv('data/LOG_WEB_201709.csv', sep=';')"
   ]
  },
  {
   "cell_type": "code",
   "execution_count": 97,
   "metadata": {
    "scrolled": true
   },
   "outputs": [
    {
     "data": {
      "text/plain": [
       "Index(['Unnamed: 0', 'Unnamed: 0.1', 'VISITOR_ID', 'CONNECTED_SESSION',\n",
       "       'ID_SESSION', 'SESSION_START_DATE', 'EVENT_DATE', 'PAGES',\n",
       "       'GLOBAL_SOURCES', 'DEVICE_TYPE', 'DEVICE_MODEL', 'LOADINGS'],\n",
       "      dtype='object')"
      ]
     },
     "execution_count": 97,
     "metadata": {},
     "output_type": "execute_result"
    }
   ],
   "source": [
    "data_201709.columns"
   ]
  },
  {
   "cell_type": "code",
   "execution_count": 54,
   "metadata": {},
   "outputs": [
    {
     "data": {
      "text/plain": [
       "{'Accès Direct',\n",
       " 'Affiliation et partenaires',\n",
       " 'Email marketing',\n",
       " 'Liens Sponsorisés',\n",
       " 'Moteurs',\n",
       " 'Notoriété',\n",
       " 'Publicité',\n",
       " 'Sites affluents',\n",
       " 'Sources naturelles personnalisées',\n",
       " 'Webmails'}"
      ]
     },
     "execution_count": 54,
     "metadata": {},
     "output_type": "execute_result"
    }
   ],
   "source": [
    "set(data_201709.GLOBAL_SOURCES)"
   ]
  },
  {
   "cell_type": "markdown",
   "metadata": {},
   "source": [
    "Let's take a look at the non log files"
   ]
  },
  {
   "cell_type": "code",
   "execution_count": 40,
   "metadata": {},
   "outputs": [],
   "source": [
    "conver = pd.read_csv('data/TABLE_CONVERSION.csv', sep = ';')"
   ]
  },
  {
   "cell_type": "code",
   "execution_count": 42,
   "metadata": {},
   "outputs": [
    {
     "data": {
      "text/html": [
       "<div>\n",
       "<style scoped>\n",
       "    .dataframe tbody tr th:only-of-type {\n",
       "        vertical-align: middle;\n",
       "    }\n",
       "\n",
       "    .dataframe tbody tr th {\n",
       "        vertical-align: top;\n",
       "    }\n",
       "\n",
       "    .dataframe thead th {\n",
       "        text-align: right;\n",
       "    }\n",
       "</style>\n",
       "<table border=\"1\" class=\"dataframe\">\n",
       "  <thead>\n",
       "    <tr style=\"text-align: right;\">\n",
       "      <th></th>\n",
       "      <th>Unnamed: 0</th>\n",
       "      <th>VISITOR_ID</th>\n",
       "      <th>CLIENT_NUMBER</th>\n",
       "    </tr>\n",
       "  </thead>\n",
       "  <tbody>\n",
       "    <tr>\n",
       "      <th>0</th>\n",
       "      <td>0</td>\n",
       "      <td>153926</td>\n",
       "      <td>-3823012923111906675</td>\n",
       "    </tr>\n",
       "    <tr>\n",
       "      <th>1</th>\n",
       "      <td>1</td>\n",
       "      <td>153987</td>\n",
       "      <td>-7710051701074628733</td>\n",
       "    </tr>\n",
       "    <tr>\n",
       "      <th>2</th>\n",
       "      <td>2</td>\n",
       "      <td>153992</td>\n",
       "      <td>-936025868422613504</td>\n",
       "    </tr>\n",
       "    <tr>\n",
       "      <th>3</th>\n",
       "      <td>3</td>\n",
       "      <td>153996</td>\n",
       "      <td>-6368245990879836547</td>\n",
       "    </tr>\n",
       "    <tr>\n",
       "      <th>4</th>\n",
       "      <td>4</td>\n",
       "      <td>154002</td>\n",
       "      <td>2975010261132720236</td>\n",
       "    </tr>\n",
       "  </tbody>\n",
       "</table>\n",
       "</div>"
      ],
      "text/plain": [
       "   Unnamed: 0  VISITOR_ID        CLIENT_NUMBER\n",
       "0           0      153926 -3823012923111906675\n",
       "1           1      153987 -7710051701074628733\n",
       "2           2      153992  -936025868422613504\n",
       "3           3      153996 -6368245990879836547\n",
       "4           4      154002  2975010261132720236"
      ]
     },
     "execution_count": 42,
     "metadata": {},
     "output_type": "execute_result"
    }
   ],
   "source": [
    "conver.head()"
   ]
  },
  {
   "cell_type": "code",
   "execution_count": 45,
   "metadata": {},
   "outputs": [],
   "source": [
    "clients = pd.read_csv('data/CLIENTS.csv', sep = ';')"
   ]
  },
  {
   "cell_type": "code",
   "execution_count": 47,
   "metadata": {},
   "outputs": [
    {
     "data": {
      "text/html": [
       "<div>\n",
       "<style scoped>\n",
       "    .dataframe tbody tr th:only-of-type {\n",
       "        vertical-align: middle;\n",
       "    }\n",
       "\n",
       "    .dataframe tbody tr th {\n",
       "        vertical-align: top;\n",
       "    }\n",
       "\n",
       "    .dataframe thead th {\n",
       "        text-align: right;\n",
       "    }\n",
       "</style>\n",
       "<table border=\"1\" class=\"dataframe\">\n",
       "  <thead>\n",
       "    <tr style=\"text-align: right;\">\n",
       "      <th></th>\n",
       "      <th>Unnamed: 0</th>\n",
       "      <th>CLIENT_NUMBER</th>\n",
       "      <th>CREATION_DATE</th>\n",
       "      <th>GENDER</th>\n",
       "      <th>BIRTH_YEAR</th>\n",
       "      <th>ZIPCODE</th>\n",
       "    </tr>\n",
       "  </thead>\n",
       "  <tbody>\n",
       "    <tr>\n",
       "      <th>0</th>\n",
       "      <td>0</td>\n",
       "      <td>-2863680653264308222</td>\n",
       "      <td>2002-12-05</td>\n",
       "      <td>Mme</td>\n",
       "      <td>1955.0</td>\n",
       "      <td>68440</td>\n",
       "    </tr>\n",
       "    <tr>\n",
       "      <th>1</th>\n",
       "      <td>1</td>\n",
       "      <td>6104579344417272025</td>\n",
       "      <td>2002-12-05</td>\n",
       "      <td>Mme</td>\n",
       "      <td>NaN</td>\n",
       "      <td>24100</td>\n",
       "    </tr>\n",
       "    <tr>\n",
       "      <th>2</th>\n",
       "      <td>2</td>\n",
       "      <td>7514073921117581737</td>\n",
       "      <td>2002-12-05</td>\n",
       "      <td>Mme</td>\n",
       "      <td>1945.0</td>\n",
       "      <td>39240</td>\n",
       "    </tr>\n",
       "    <tr>\n",
       "      <th>3</th>\n",
       "      <td>3</td>\n",
       "      <td>-8702883778531324523</td>\n",
       "      <td>2002-12-05</td>\n",
       "      <td>Mme</td>\n",
       "      <td>NaN</td>\n",
       "      <td>42290</td>\n",
       "    </tr>\n",
       "    <tr>\n",
       "      <th>4</th>\n",
       "      <td>4</td>\n",
       "      <td>6338712688710833090</td>\n",
       "      <td>2003-10-06</td>\n",
       "      <td>Mme</td>\n",
       "      <td>1934.0</td>\n",
       "      <td>13006</td>\n",
       "    </tr>\n",
       "  </tbody>\n",
       "</table>\n",
       "</div>"
      ],
      "text/plain": [
       "   Unnamed: 0        CLIENT_NUMBER CREATION_DATE GENDER  BIRTH_YEAR ZIPCODE\n",
       "0           0 -2863680653264308222    2002-12-05    Mme      1955.0   68440\n",
       "1           1  6104579344417272025    2002-12-05    Mme         NaN   24100\n",
       "2           2  7514073921117581737    2002-12-05    Mme      1945.0   39240\n",
       "3           3 -8702883778531324523    2002-12-05    Mme         NaN   42290\n",
       "4           4  6338712688710833090    2003-10-06    Mme      1934.0   13006"
      ]
     },
     "execution_count": 47,
     "metadata": {},
     "output_type": "execute_result"
    }
   ],
   "source": [
    "clients.head()"
   ]
  },
  {
   "cell_type": "code",
   "execution_count": 49,
   "metadata": {},
   "outputs": [],
   "source": [
    "CMD = pd.read_csv('data/CMD.csv', sep = ';')"
   ]
  },
  {
   "cell_type": "code",
   "execution_count": 52,
   "metadata": {},
   "outputs": [
    {
     "data": {
      "text/html": [
       "<div>\n",
       "<style scoped>\n",
       "    .dataframe tbody tr th:only-of-type {\n",
       "        vertical-align: middle;\n",
       "    }\n",
       "\n",
       "    .dataframe tbody tr th {\n",
       "        vertical-align: top;\n",
       "    }\n",
       "\n",
       "    .dataframe thead th {\n",
       "        text-align: right;\n",
       "    }\n",
       "</style>\n",
       "<table border=\"1\" class=\"dataframe\">\n",
       "  <thead>\n",
       "    <tr style=\"text-align: right;\">\n",
       "      <th></th>\n",
       "      <th>Unnamed: 0</th>\n",
       "      <th>CLIENT_NUMBER</th>\n",
       "      <th>ORDER_NUMBER</th>\n",
       "      <th>ORDER_DATE</th>\n",
       "      <th>ORDER_CHANNEL</th>\n",
       "      <th>PRE_TAX_AMOUNT</th>\n",
       "      <th>CVIC</th>\n",
       "    </tr>\n",
       "  </thead>\n",
       "  <tbody>\n",
       "    <tr>\n",
       "      <th>0</th>\n",
       "      <td>0</td>\n",
       "      <td>8398656261850950768</td>\n",
       "      <td>2302390</td>\n",
       "      <td>2010-01-05</td>\n",
       "      <td>Telephone</td>\n",
       "      <td>84.28</td>\n",
       "      <td>True</td>\n",
       "    </tr>\n",
       "    <tr>\n",
       "      <th>1</th>\n",
       "      <td>1</td>\n",
       "      <td>8320509380367540885</td>\n",
       "      <td>2302392</td>\n",
       "      <td>2010-01-17</td>\n",
       "      <td>Telephone</td>\n",
       "      <td>97.85</td>\n",
       "      <td>True</td>\n",
       "    </tr>\n",
       "    <tr>\n",
       "      <th>2</th>\n",
       "      <td>2</td>\n",
       "      <td>-1193146797974419251</td>\n",
       "      <td>2302393</td>\n",
       "      <td>2010-01-05</td>\n",
       "      <td>Telephone</td>\n",
       "      <td>58.45</td>\n",
       "      <td>True</td>\n",
       "    </tr>\n",
       "    <tr>\n",
       "      <th>3</th>\n",
       "      <td>3</td>\n",
       "      <td>1520817711972753064</td>\n",
       "      <td>2302394</td>\n",
       "      <td>2010-01-05</td>\n",
       "      <td>Telephone</td>\n",
       "      <td>31.19</td>\n",
       "      <td>True</td>\n",
       "    </tr>\n",
       "    <tr>\n",
       "      <th>4</th>\n",
       "      <td>4</td>\n",
       "      <td>-8878392380115385583</td>\n",
       "      <td>2302396</td>\n",
       "      <td>2010-01-14</td>\n",
       "      <td>Telephone</td>\n",
       "      <td>37.45</td>\n",
       "      <td>True</td>\n",
       "    </tr>\n",
       "  </tbody>\n",
       "</table>\n",
       "</div>"
      ],
      "text/plain": [
       "   Unnamed: 0        CLIENT_NUMBER  ORDER_NUMBER  ORDER_DATE ORDER_CHANNEL  \\\n",
       "0           0  8398656261850950768       2302390  2010-01-05     Telephone   \n",
       "1           1  8320509380367540885       2302392  2010-01-17     Telephone   \n",
       "2           2 -1193146797974419251       2302393  2010-01-05     Telephone   \n",
       "3           3  1520817711972753064       2302394  2010-01-05     Telephone   \n",
       "4           4 -8878392380115385583       2302396  2010-01-14     Telephone   \n",
       "\n",
       "   PRE_TAX_AMOUNT  CVIC  \n",
       "0           84.28  True  \n",
       "1           97.85  True  \n",
       "2           58.45  True  \n",
       "3           31.19  True  \n",
       "4           37.45  True  "
      ]
     },
     "execution_count": 52,
     "metadata": {},
     "output_type": "execute_result"
    }
   ],
   "source": [
    "CMD.head()"
   ]
  },
  {
   "cell_type": "code",
   "execution_count": 51,
   "metadata": {},
   "outputs": [
    {
     "data": {
      "text/plain": [
       "{'Courier', 'Internet', 'Magasin', 'Non Renseigne', 'Telephone'}"
      ]
     },
     "execution_count": 51,
     "metadata": {},
     "output_type": "execute_result"
    }
   ],
   "source": [
    "set(CMD.ORDER_CHANNEL)"
   ]
  },
  {
   "cell_type": "code",
   "execution_count": 53,
   "metadata": {},
   "outputs": [
    {
     "data": {
      "text/plain": [
       "(7323227, 1604670)"
      ]
     },
     "execution_count": 53,
     "metadata": {},
     "output_type": "execute_result"
    }
   ],
   "source": [
    "len(CMD.CLIENT_NUMBER), len(set(CMD.CLIENT_NUMBER))"
   ]
  },
  {
   "cell_type": "markdown",
   "metadata": {},
   "source": [
    "as expected, over the years, one clients made multiple purchases"
   ]
  },
  {
   "cell_type": "markdown",
   "metadata": {},
   "source": [
    "As informed the supervisor, the CVIC column is the column that identifies the users who use promo codes"
   ]
  },
  {
   "cell_type": "markdown",
   "metadata": {},
   "source": [
    "We have a general look around the order channel and the CVIC column"
   ]
  },
  {
   "cell_type": "code",
   "execution_count": 61,
   "metadata": {},
   "outputs": [],
   "source": [
    "CMD = CMD.drop(['Unnamed: 0'], axis = 1)"
   ]
  },
  {
   "cell_type": "code",
   "execution_count": 63,
   "metadata": {},
   "outputs": [
    {
     "data": {
      "text/plain": [
       "(1648148, 7323227)"
      ]
     },
     "execution_count": 63,
     "metadata": {},
     "output_type": "execute_result"
    }
   ],
   "source": [
    "len(CMD[['Internet' == channel for channel in CMD.ORDER_CHANNEL]]), len(CMD)"
   ]
  },
  {
   "cell_type": "code",
   "execution_count": 64,
   "metadata": {
    "collapsed": true
   },
   "outputs": [
    {
     "data": {
      "text/plain": [
       "633861     False\n",
       "634168     False\n",
       "634413     False\n",
       "635627     False\n",
       "636492     False\n",
       "637017     False\n",
       "637785     False\n",
       "637833     False\n",
       "638038     False\n",
       "638045     False\n",
       "1341334    False\n",
       "1341945    False\n",
       "1344864    False\n",
       "1346825    False\n",
       "1349597    False\n",
       "1350807    False\n",
       "1354861    False\n",
       "1355086    False\n",
       "1355754    False\n",
       "1357128    False\n",
       "1362250    False\n",
       "1362834    False\n",
       "1364217    False\n",
       "1364964    False\n",
       "1366807    False\n",
       "1369690    False\n",
       "2410345     True\n",
       "2410346     True\n",
       "2410347    False\n",
       "2410348     True\n",
       "           ...  \n",
       "6724543     True\n",
       "6724544     True\n",
       "6724545     True\n",
       "6724546     True\n",
       "6724547    False\n",
       "6724548    False\n",
       "6724549    False\n",
       "6724550    False\n",
       "6724551    False\n",
       "6724552    False\n",
       "6724553    False\n",
       "6724554    False\n",
       "6724555     True\n",
       "6724556    False\n",
       "6724557    False\n",
       "6724558    False\n",
       "6724559    False\n",
       "6724560     True\n",
       "6724561    False\n",
       "6724562    False\n",
       "6724563     True\n",
       "6724564     True\n",
       "6724565    False\n",
       "6724566    False\n",
       "6724567     True\n",
       "6724568     True\n",
       "6724569    False\n",
       "6724570    False\n",
       "6724571     True\n",
       "6724572    False\n",
       "Name: CVIC, Length: 1648148, dtype: bool"
      ]
     },
     "execution_count": 64,
     "metadata": {},
     "output_type": "execute_result"
    }
   ],
   "source": [
    "CMD[['Internet' == channel for channel in CMD.ORDER_CHANNEL]].CVIC"
   ]
  },
  {
   "cell_type": "code",
   "execution_count": 94,
   "metadata": {},
   "outputs": [
    {
     "data": {
      "text/plain": [
       "'2010-01'"
      ]
     },
     "execution_count": 94,
     "metadata": {},
     "output_type": "execute_result"
    }
   ],
   "source": [
    "CMD.ORDER_DATE[0][:7]"
   ]
  },
  {
   "cell_type": "code",
   "execution_count": 95,
   "metadata": {},
   "outputs": [],
   "source": [
    "def desired_group(row):\n",
    "    if row['CVIC'] == True:\n",
    "        if row['ORDER_CHANNEL'] == 'Internet':\n",
    "            if row['ORDER_DATE'][:4] == '2017':\n",
    "                if int(row['ORDER_DATE'][5:7]) >= 10:\n",
    "                    return(True)\n",
    "            if row['ORDER_DATE'][:4] == '2018':\n",
    "                return(True)"
   ]
  },
  {
   "cell_type": "code",
   "execution_count": 96,
   "metadata": {},
   "outputs": [],
   "source": [
    "internet_promo_users = [(row['CLIENT_NUMBER'], row['ORDER_NUMBER']) for i, row in CMD.iterrows() if desired_group(row)]"
   ]
  },
  {
   "cell_type": "code",
   "execution_count": 99,
   "metadata": {},
   "outputs": [
    {
     "data": {
      "text/plain": [
       "40741"
      ]
     },
     "execution_count": 99,
     "metadata": {},
     "output_type": "execute_result"
    }
   ],
   "source": [
    "len(internet_promo_users)"
   ]
  },
  {
   "cell_type": "code",
   "execution_count": 100,
   "metadata": {},
   "outputs": [
    {
     "data": {
      "text/plain": [
       "(34370, 40741)"
      ]
     },
     "execution_count": 100,
     "metadata": {},
     "output_type": "execute_result"
    }
   ],
   "source": [
    "len(set([pair[0] for pair in internet_promo_users])),len(set([pair[1] for pair in internet_promo_users]))"
   ]
  },
  {
   "cell_type": "code",
   "execution_count": 101,
   "metadata": {},
   "outputs": [],
   "source": [
    "net_catalog_order = [pair[1] for pair in internet_promo_users]"
   ]
  },
  {
   "cell_type": "code",
   "execution_count": 102,
   "metadata": {},
   "outputs": [],
   "source": [
    "net_catalog_client = list(set([pair[0] for pair in internet_promo_users]))"
   ]
  },
  {
   "cell_type": "code",
   "execution_count": 103,
   "metadata": {},
   "outputs": [
    {
     "data": {
      "text/plain": [
       "34370"
      ]
     },
     "execution_count": 103,
     "metadata": {},
     "output_type": "execute_result"
    }
   ],
   "source": [
    "len(net_catalog_client)"
   ]
  },
  {
   "cell_type": "code",
   "execution_count": 104,
   "metadata": {},
   "outputs": [],
   "source": [
    "identified_order_channels = set(CMD.ORDER_CHANNEL)"
   ]
  },
  {
   "cell_type": "code",
   "execution_count": 111,
   "metadata": {
    "collapsed": true
   },
   "outputs": [
    {
     "name": "stderr",
     "output_type": "stream",
     "text": [
      "100%|██████████| 5/5 [00:00<00:00, 2484.78it/s]\n",
      "Process ForkPoolWorker-25:\n",
      "Process ForkPoolWorker-26:\n",
      "Process ForkPoolWorker-22:\n",
      "Process ForkPoolWorker-20:\n",
      "Process ForkPoolWorker-23:\n",
      "Process ForkPoolWorker-24:\n",
      "Process ForkPoolWorker-21:\n",
      "Traceback (most recent call last):\n",
      "Traceback (most recent call last):\n",
      "Traceback (most recent call last):\n",
      "Traceback (most recent call last):\n",
      "Traceback (most recent call last):\n",
      "  File \"/Users/ruoyangzhang/anaconda3/lib/python3.6/multiprocessing/process.py\", line 258, in _bootstrap\n",
      "    self.run()\n",
      "  File \"/Users/ruoyangzhang/anaconda3/lib/python3.6/multiprocessing/process.py\", line 258, in _bootstrap\n",
      "    self.run()\n",
      "  File \"/Users/ruoyangzhang/anaconda3/lib/python3.6/multiprocessing/process.py\", line 258, in _bootstrap\n",
      "    self.run()\n",
      "Traceback (most recent call last):\n",
      "  File \"/Users/ruoyangzhang/anaconda3/lib/python3.6/multiprocessing/process.py\", line 258, in _bootstrap\n",
      "    self.run()\n",
      "  File \"/Users/ruoyangzhang/anaconda3/lib/python3.6/multiprocessing/process.py\", line 93, in run\n",
      "    self._target(*self._args, **self._kwargs)\n",
      "  File \"/Users/ruoyangzhang/anaconda3/lib/python3.6/multiprocessing/process.py\", line 93, in run\n",
      "    self._target(*self._args, **self._kwargs)\n"
     ]
    },
    {
     "ename": "KeyboardInterrupt",
     "evalue": "",
     "output_type": "error",
     "traceback": [
      "\u001b[0;31m---------------------------------------------------------------------------\u001b[0m",
      "\u001b[0;31mKeyboardInterrupt\u001b[0m                         Traceback (most recent call last)",
      "\u001b[0;32m<ipython-input-111-ac83c64fc50e>\u001b[0m in \u001b[0;36m<module>\u001b[0;34m()\u001b[0m\n\u001b[1;32m      3\u001b[0m \u001b[0;34m\u001b[0m\u001b[0m\n\u001b[1;32m      4\u001b[0m \u001b[0mp\u001b[0m \u001b[0;34m=\u001b[0m \u001b[0mPool\u001b[0m\u001b[0;34m(\u001b[0m\u001b[0;36m7\u001b[0m\u001b[0;34m,\u001b[0m \u001b[0mmaxtasksperchild\u001b[0m \u001b[0;34m=\u001b[0m \u001b[0;36m1\u001b[0m\u001b[0;34m)\u001b[0m\u001b[0;34m\u001b[0m\u001b[0m\n\u001b[0;32m----> 5\u001b[0;31m \u001b[0mres_value_count\u001b[0m \u001b[0;34m=\u001b[0m \u001b[0mp\u001b[0m\u001b[0;34m.\u001b[0m\u001b[0mmap\u001b[0m\u001b[0;34m(\u001b[0m\u001b[0mcount_values\u001b[0m\u001b[0;34m,\u001b[0m \u001b[0mtqdm\u001b[0m\u001b[0;34m(\u001b[0m\u001b[0midentified_order_channels\u001b[0m\u001b[0;34m)\u001b[0m\u001b[0;34m)\u001b[0m\u001b[0;34m\u001b[0m\u001b[0m\n\u001b[0m",
      "\u001b[0;32m~/anaconda3/lib/python3.6/multiprocessing/pool.py\u001b[0m in \u001b[0;36mmap\u001b[0;34m(self, func, iterable, chunksize)\u001b[0m\n\u001b[1;32m    264\u001b[0m         \u001b[0;32min\u001b[0m \u001b[0ma\u001b[0m \u001b[0mlist\u001b[0m \u001b[0mthat\u001b[0m \u001b[0;32mis\u001b[0m \u001b[0mreturned\u001b[0m\u001b[0;34m.\u001b[0m\u001b[0;34m\u001b[0m\u001b[0m\n\u001b[1;32m    265\u001b[0m         '''\n\u001b[0;32m--> 266\u001b[0;31m         \u001b[0;32mreturn\u001b[0m \u001b[0mself\u001b[0m\u001b[0;34m.\u001b[0m\u001b[0m_map_async\u001b[0m\u001b[0;34m(\u001b[0m\u001b[0mfunc\u001b[0m\u001b[0;34m,\u001b[0m \u001b[0miterable\u001b[0m\u001b[0;34m,\u001b[0m \u001b[0mmapstar\u001b[0m\u001b[0;34m,\u001b[0m \u001b[0mchunksize\u001b[0m\u001b[0;34m)\u001b[0m\u001b[0;34m.\u001b[0m\u001b[0mget\u001b[0m\u001b[0;34m(\u001b[0m\u001b[0;34m)\u001b[0m\u001b[0;34m\u001b[0m\u001b[0m\n\u001b[0m\u001b[1;32m    267\u001b[0m \u001b[0;34m\u001b[0m\u001b[0m\n\u001b[1;32m    268\u001b[0m     \u001b[0;32mdef\u001b[0m \u001b[0mstarmap\u001b[0m\u001b[0;34m(\u001b[0m\u001b[0mself\u001b[0m\u001b[0;34m,\u001b[0m \u001b[0mfunc\u001b[0m\u001b[0;34m,\u001b[0m \u001b[0miterable\u001b[0m\u001b[0;34m,\u001b[0m \u001b[0mchunksize\u001b[0m\u001b[0;34m=\u001b[0m\u001b[0;32mNone\u001b[0m\u001b[0;34m)\u001b[0m\u001b[0;34m:\u001b[0m\u001b[0;34m\u001b[0m\u001b[0m\n",
      "\u001b[0;32m~/anaconda3/lib/python3.6/multiprocessing/pool.py\u001b[0m in \u001b[0;36mget\u001b[0;34m(self, timeout)\u001b[0m\n\u001b[1;32m    636\u001b[0m \u001b[0;34m\u001b[0m\u001b[0m\n\u001b[1;32m    637\u001b[0m     \u001b[0;32mdef\u001b[0m \u001b[0mget\u001b[0m\u001b[0;34m(\u001b[0m\u001b[0mself\u001b[0m\u001b[0;34m,\u001b[0m \u001b[0mtimeout\u001b[0m\u001b[0;34m=\u001b[0m\u001b[0;32mNone\u001b[0m\u001b[0;34m)\u001b[0m\u001b[0;34m:\u001b[0m\u001b[0;34m\u001b[0m\u001b[0m\n\u001b[0;32m--> 638\u001b[0;31m         \u001b[0mself\u001b[0m\u001b[0;34m.\u001b[0m\u001b[0mwait\u001b[0m\u001b[0;34m(\u001b[0m\u001b[0mtimeout\u001b[0m\u001b[0;34m)\u001b[0m\u001b[0;34m\u001b[0m\u001b[0m\n\u001b[0m\u001b[1;32m    639\u001b[0m         \u001b[0;32mif\u001b[0m \u001b[0;32mnot\u001b[0m \u001b[0mself\u001b[0m\u001b[0;34m.\u001b[0m\u001b[0mready\u001b[0m\u001b[0;34m(\u001b[0m\u001b[0;34m)\u001b[0m\u001b[0;34m:\u001b[0m\u001b[0;34m\u001b[0m\u001b[0m\n\u001b[1;32m    640\u001b[0m             \u001b[0;32mraise\u001b[0m \u001b[0mTimeoutError\u001b[0m\u001b[0;34m\u001b[0m\u001b[0m\n",
      "\u001b[0;32m~/anaconda3/lib/python3.6/multiprocessing/pool.py\u001b[0m in \u001b[0;36mwait\u001b[0;34m(self, timeout)\u001b[0m\n\u001b[1;32m    633\u001b[0m \u001b[0;34m\u001b[0m\u001b[0m\n\u001b[1;32m    634\u001b[0m     \u001b[0;32mdef\u001b[0m \u001b[0mwait\u001b[0m\u001b[0;34m(\u001b[0m\u001b[0mself\u001b[0m\u001b[0;34m,\u001b[0m \u001b[0mtimeout\u001b[0m\u001b[0;34m=\u001b[0m\u001b[0;32mNone\u001b[0m\u001b[0;34m)\u001b[0m\u001b[0;34m:\u001b[0m\u001b[0;34m\u001b[0m\u001b[0m\n\u001b[0;32m--> 635\u001b[0;31m         \u001b[0mself\u001b[0m\u001b[0;34m.\u001b[0m\u001b[0m_event\u001b[0m\u001b[0;34m.\u001b[0m\u001b[0mwait\u001b[0m\u001b[0;34m(\u001b[0m\u001b[0mtimeout\u001b[0m\u001b[0;34m)\u001b[0m\u001b[0;34m\u001b[0m\u001b[0m\n\u001b[0m\u001b[1;32m    636\u001b[0m \u001b[0;34m\u001b[0m\u001b[0m\n\u001b[1;32m    637\u001b[0m     \u001b[0;32mdef\u001b[0m \u001b[0mget\u001b[0m\u001b[0;34m(\u001b[0m\u001b[0mself\u001b[0m\u001b[0;34m,\u001b[0m \u001b[0mtimeout\u001b[0m\u001b[0;34m=\u001b[0m\u001b[0;32mNone\u001b[0m\u001b[0;34m)\u001b[0m\u001b[0;34m:\u001b[0m\u001b[0;34m\u001b[0m\u001b[0m\n",
      "\u001b[0;32m~/anaconda3/lib/python3.6/threading.py\u001b[0m in \u001b[0;36mwait\u001b[0;34m(self, timeout)\u001b[0m\n\u001b[1;32m    549\u001b[0m             \u001b[0msignaled\u001b[0m \u001b[0;34m=\u001b[0m \u001b[0mself\u001b[0m\u001b[0;34m.\u001b[0m\u001b[0m_flag\u001b[0m\u001b[0;34m\u001b[0m\u001b[0m\n\u001b[1;32m    550\u001b[0m             \u001b[0;32mif\u001b[0m \u001b[0;32mnot\u001b[0m \u001b[0msignaled\u001b[0m\u001b[0;34m:\u001b[0m\u001b[0;34m\u001b[0m\u001b[0m\n\u001b[0;32m--> 551\u001b[0;31m                 \u001b[0msignaled\u001b[0m \u001b[0;34m=\u001b[0m \u001b[0mself\u001b[0m\u001b[0;34m.\u001b[0m\u001b[0m_cond\u001b[0m\u001b[0;34m.\u001b[0m\u001b[0mwait\u001b[0m\u001b[0;34m(\u001b[0m\u001b[0mtimeout\u001b[0m\u001b[0;34m)\u001b[0m\u001b[0;34m\u001b[0m\u001b[0m\n\u001b[0m\u001b[1;32m    552\u001b[0m             \u001b[0;32mreturn\u001b[0m \u001b[0msignaled\u001b[0m\u001b[0;34m\u001b[0m\u001b[0m\n\u001b[1;32m    553\u001b[0m \u001b[0;34m\u001b[0m\u001b[0m\n",
      "\u001b[0;32m~/anaconda3/lib/python3.6/threading.py\u001b[0m in \u001b[0;36mwait\u001b[0;34m(self, timeout)\u001b[0m\n\u001b[1;32m    293\u001b[0m         \u001b[0;32mtry\u001b[0m\u001b[0;34m:\u001b[0m    \u001b[0;31m# restore state no matter what (e.g., KeyboardInterrupt)\u001b[0m\u001b[0;34m\u001b[0m\u001b[0m\n\u001b[1;32m    294\u001b[0m             \u001b[0;32mif\u001b[0m \u001b[0mtimeout\u001b[0m \u001b[0;32mis\u001b[0m \u001b[0;32mNone\u001b[0m\u001b[0;34m:\u001b[0m\u001b[0;34m\u001b[0m\u001b[0m\n\u001b[0;32m--> 295\u001b[0;31m                 \u001b[0mwaiter\u001b[0m\u001b[0;34m.\u001b[0m\u001b[0macquire\u001b[0m\u001b[0;34m(\u001b[0m\u001b[0;34m)\u001b[0m\u001b[0;34m\u001b[0m\u001b[0m\n\u001b[0m\u001b[1;32m    296\u001b[0m                 \u001b[0mgotit\u001b[0m \u001b[0;34m=\u001b[0m \u001b[0;32mTrue\u001b[0m\u001b[0;34m\u001b[0m\u001b[0m\n\u001b[1;32m    297\u001b[0m             \u001b[0;32melse\u001b[0m\u001b[0;34m:\u001b[0m\u001b[0;34m\u001b[0m\u001b[0m\n",
      "\u001b[0;31mKeyboardInterrupt\u001b[0m: "
     ]
    },
    {
     "name": "stderr",
     "output_type": "stream",
     "text": [
      "  File \"/Users/ruoyangzhang/anaconda3/lib/python3.6/multiprocessing/process.py\", line 258, in _bootstrap\n",
      "    self.run()\n",
      "  File \"/Users/ruoyangzhang/anaconda3/lib/python3.6/multiprocessing/pool.py\", line 108, in worker\n",
      "    task = get()\n",
      "  File \"/Users/ruoyangzhang/anaconda3/lib/python3.6/multiprocessing/pool.py\", line 108, in worker\n",
      "    task = get()\n",
      "  File \"/Users/ruoyangzhang/anaconda3/lib/python3.6/multiprocessing/process.py\", line 93, in run\n",
      "    self._target(*self._args, **self._kwargs)\n",
      "  File \"/Users/ruoyangzhang/anaconda3/lib/python3.6/multiprocessing/process.py\", line 258, in _bootstrap\n",
      "    self.run()\n",
      "  File \"/Users/ruoyangzhang/anaconda3/lib/python3.6/multiprocessing/queues.py\", line 335, in get\n",
      "    res = self._reader.recv_bytes()\n",
      "  File \"/Users/ruoyangzhang/anaconda3/lib/python3.6/multiprocessing/process.py\", line 93, in run\n",
      "    self._target(*self._args, **self._kwargs)\n",
      "  File \"/Users/ruoyangzhang/anaconda3/lib/python3.6/multiprocessing/process.py\", line 93, in run\n",
      "    self._target(*self._args, **self._kwargs)\n",
      "Traceback (most recent call last):\n",
      "  File \"/Users/ruoyangzhang/anaconda3/lib/python3.6/multiprocessing/queues.py\", line 334, in get\n",
      "    with self._rlock:\n",
      "  File \"/Users/ruoyangzhang/anaconda3/lib/python3.6/multiprocessing/pool.py\", line 119, in worker\n",
      "    result = (True, func(*args, **kwds))\n",
      "  File \"/Users/ruoyangzhang/anaconda3/lib/python3.6/multiprocessing/synchronize.py\", line 96, in __enter__\n",
      "    return self._semlock.__enter__()\n",
      "  File \"/Users/ruoyangzhang/anaconda3/lib/python3.6/multiprocessing/pool.py\", line 44, in mapstar\n",
      "    return list(map(*args))\n",
      "  File \"/Users/ruoyangzhang/anaconda3/lib/python3.6/multiprocessing/connection.py\", line 216, in recv_bytes\n",
      "    buf = self._recv_bytes(maxlength)\n",
      "  File \"/Users/ruoyangzhang/anaconda3/lib/python3.6/multiprocessing/pool.py\", line 119, in worker\n",
      "    result = (True, func(*args, **kwds))\n",
      "  File \"/Users/ruoyangzhang/anaconda3/lib/python3.6/multiprocessing/pool.py\", line 119, in worker\n",
      "    result = (True, func(*args, **kwds))\n",
      "  File \"/Users/ruoyangzhang/anaconda3/lib/python3.6/multiprocessing/process.py\", line 258, in _bootstrap\n",
      "    self.run()\n",
      "  File \"<ipython-input-111-ac83c64fc50e>\", line 2, in count_values\n",
      "    return(sum([chn == chan for i, chn in enumerate(CMD.ORDER_CHANNEL) if CMD.ORDER_NUMBER[i] in net_catalog_order]))\n",
      "KeyboardInterrupt\n",
      "  File \"/Users/ruoyangzhang/anaconda3/lib/python3.6/multiprocessing/connection.py\", line 407, in _recv_bytes\n",
      "    buf = self._recv(4)\n",
      "  File \"<ipython-input-111-ac83c64fc50e>\", line 2, in <listcomp>\n",
      "    return(sum([chn == chan for i, chn in enumerate(CMD.ORDER_CHANNEL) if CMD.ORDER_NUMBER[i] in net_catalog_order]))\n",
      "  File \"/Users/ruoyangzhang/anaconda3/lib/python3.6/multiprocessing/connection.py\", line 379, in _recv\n",
      "    chunk = read(handle, remaining)\n",
      "  File \"/Users/ruoyangzhang/anaconda3/lib/python3.6/multiprocessing/pool.py\", line 44, in mapstar\n",
      "    return list(map(*args))\n",
      "  File \"/Users/ruoyangzhang/anaconda3/lib/python3.6/multiprocessing/pool.py\", line 44, in mapstar\n",
      "    return list(map(*args))\n",
      "  File \"<ipython-input-111-ac83c64fc50e>\", line 2, in count_values\n",
      "    return(sum([chn == chan for i, chn in enumerate(CMD.ORDER_CHANNEL) if CMD.ORDER_NUMBER[i] in net_catalog_order]))\n",
      "KeyboardInterrupt\n",
      "KeyboardInterrupt\n",
      "  File \"<ipython-input-111-ac83c64fc50e>\", line 2, in count_values\n",
      "    return(sum([chn == chan for i, chn in enumerate(CMD.ORDER_CHANNEL) if CMD.ORDER_NUMBER[i] in net_catalog_order]))\n",
      "  File \"<ipython-input-111-ac83c64fc50e>\", line 2, in <listcomp>\n",
      "    return(sum([chn == chan for i, chn in enumerate(CMD.ORDER_CHANNEL) if CMD.ORDER_NUMBER[i] in net_catalog_order]))\n",
      "  File \"<ipython-input-111-ac83c64fc50e>\", line 2, in <listcomp>\n",
      "    return(sum([chn == chan for i, chn in enumerate(CMD.ORDER_CHANNEL) if CMD.ORDER_NUMBER[i] in net_catalog_order]))\n",
      "KeyboardInterrupt\n",
      "  File \"/Users/ruoyangzhang/anaconda3/lib/python3.6/multiprocessing/process.py\", line 93, in run\n",
      "    self._target(*self._args, **self._kwargs)\n",
      "KeyboardInterrupt\n",
      "  File \"/Users/ruoyangzhang/anaconda3/lib/python3.6/multiprocessing/process.py\", line 93, in run\n",
      "    self._target(*self._args, **self._kwargs)\n",
      "  File \"/Users/ruoyangzhang/anaconda3/lib/python3.6/multiprocessing/pool.py\", line 119, in worker\n",
      "    result = (True, func(*args, **kwds))\n",
      "  File \"/Users/ruoyangzhang/anaconda3/lib/python3.6/multiprocessing/pool.py\", line 119, in worker\n",
      "    result = (True, func(*args, **kwds))\n",
      "  File \"/Users/ruoyangzhang/anaconda3/lib/python3.6/multiprocessing/pool.py\", line 44, in mapstar\n",
      "    return list(map(*args))\n",
      "  File \"/Users/ruoyangzhang/anaconda3/lib/python3.6/multiprocessing/pool.py\", line 44, in mapstar\n",
      "    return list(map(*args))\n",
      "  File \"<ipython-input-111-ac83c64fc50e>\", line 2, in count_values\n",
      "    return(sum([chn == chan for i, chn in enumerate(CMD.ORDER_CHANNEL) if CMD.ORDER_NUMBER[i] in net_catalog_order]))\n",
      "  File \"<ipython-input-111-ac83c64fc50e>\", line 2, in count_values\n",
      "    return(sum([chn == chan for i, chn in enumerate(CMD.ORDER_CHANNEL) if CMD.ORDER_NUMBER[i] in net_catalog_order]))\n",
      "  File \"<ipython-input-111-ac83c64fc50e>\", line 2, in <listcomp>\n",
      "    return(sum([chn == chan for i, chn in enumerate(CMD.ORDER_CHANNEL) if CMD.ORDER_NUMBER[i] in net_catalog_order]))\n",
      "  File \"<ipython-input-111-ac83c64fc50e>\", line 2, in <listcomp>\n",
      "    return(sum([chn == chan for i, chn in enumerate(CMD.ORDER_CHANNEL) if CMD.ORDER_NUMBER[i] in net_catalog_order]))\n",
      "KeyboardInterrupt\n",
      "KeyboardInterrupt\n"
     ]
    }
   ],
   "source": [
    "def count_values(chan):\n",
    "    return(sum([chn == chan for i, chn in tqdm(enumerate(CMD.ORDER_CHANNEL)) if CMD.ORDER_NUMBER[i] in net_catalog_order]))\n",
    "\n",
    "p = Pool(7, maxtasksperchild = 1)\n",
    "res_value_count = p.map(count_values, tqdm(identified_order_channels))"
   ]
  },
  {
   "cell_type": "code",
   "execution_count": 110,
   "metadata": {},
   "outputs": [
    {
     "data": {
      "text/plain": [
       "[1400281, 727577, 3543250, 1648148, 3971]"
      ]
     },
     "execution_count": 110,
     "metadata": {},
     "output_type": "execute_result"
    }
   ],
   "source": [
    "res_value_count"
   ]
  },
  {
   "cell_type": "code",
   "execution_count": null,
   "metadata": {},
   "outputs": [],
   "source": []
  }
 ],
 "metadata": {
  "kernelspec": {
   "display_name": "Python 3",
   "language": "python",
   "name": "python3"
  },
  "language_info": {
   "codemirror_mode": {
    "name": "ipython",
    "version": 3
   },
   "file_extension": ".py",
   "mimetype": "text/x-python",
   "name": "python",
   "nbconvert_exporter": "python",
   "pygments_lexer": "ipython3",
   "version": "3.6.4"
  }
 },
 "nbformat": 4,
 "nbformat_minor": 2
}
