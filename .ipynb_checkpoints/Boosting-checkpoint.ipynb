{
 "cells": [
  {
   "cell_type": "code",
   "execution_count": 65,
   "metadata": {},
   "outputs": [
    {
     "name": "stdout",
     "output_type": "stream",
     "text": [
      "Accuracy: 75.82%\n"
     ]
    },
    {
     "name": "stderr",
     "output_type": "stream",
     "text": [
      "/Users/ruoyangzhang/anaconda3/lib/python3.6/site-packages/sklearn/preprocessing/label.py:151: DeprecationWarning: The truth value of an empty array is ambiguous. Returning False, but in future this will result in an error. Use `array.size > 0` to check that an array is not empty.\n",
      "  if diff:\n"
     ]
    }
   ],
   "source": [
    "import pandas as pd\n",
    "import xgboost as xgb\n",
    "from xgboost import XGBClassifier\n",
    "from sklearn.model_selection import train_test_split\n",
    "from sklearn.preprocessing import OneHotEncoder, LabelEncoder\n",
    "from sklearn.metrics import accuracy_score\n",
    "import numpy as np\n",
    "\n",
    "data_path = '/Users/ruoyangzhang/Documents/PythonWorkingDirectory/Eleven_super_case_customer_insights_Data/'\n",
    "data = pd.read_csv(data_path + 'visit_sessions_1709_transac_label_assigned.csv')\n",
    "data = data.loc[:, ~data.columns.str.contains('^Unnamed')]\n",
    "data = data.fillna('Na')\n",
    "\n",
    "data = data[['DEVICE_TYPE', 'GLOBAL_SOURCES', 'landing_page', 'nb_pages_unique', 'second_page', 'time_before_final','PRE_TAX_AMOUNT', 'hour_sin', 'hour_cos','label']]\n",
    "categorical = data.select_dtypes(include=[object])\n",
    "\n",
    "def hotEncode(col):\n",
    "    cat_features = data.loc[:,col]\n",
    "    enc = LabelEncoder()\n",
    "    enc.fit(cat_features)\n",
    "    new_cat_features = enc.transform(cat_features)\n",
    "    new_cat_features = new_cat_features.reshape(-1, 1) # Needs to be the correct shape\n",
    "    ohe = preprocessing.OneHotEncoder(sparse=False) #Easier to read\n",
    "    return(ohe.fit_transform(new_cat_features))\n",
    "\n",
    "#hot = [hotEncode(col) for col in categorical.columns]\n",
    "data = data.drop(categorical.drop('label', axis = 1).columns, axis = 1)\n",
    "\n",
    "model_data = data[data.label.notna()]\n",
    "X = model_data.iloc[:,:-1]\n",
    "y = model_data.iloc[:,-1]\n",
    "\n",
    "X_train, X_test, y_train, y_test = train_test_split(X, y, test_size=0.3, random_state=42)\n",
    "\n",
    "model = XGBClassifier()\n",
    "model.fit(X_train, y_train)\n",
    "\n",
    "y_pred = model.predict(X_test)\n",
    "predictions = y_pred\n",
    "# evaluate predictions\n",
    "accuracy = accuracy_score(y_test, predictions)\n",
    "print(\"Accuracy: %.2f%%\" % (accuracy * 100.0))"
   ]
  }
 ],
 "metadata": {
  "kernelspec": {
   "display_name": "Python 3",
   "language": "python",
   "name": "python3"
  },
  "language_info": {
   "codemirror_mode": {
    "name": "ipython",
    "version": 3
   },
   "file_extension": ".py",
   "mimetype": "text/x-python",
   "name": "python",
   "nbconvert_exporter": "python",
   "pygments_lexer": "ipython3",
   "version": "3.6.4"
  }
 },
 "nbformat": 4,
 "nbformat_minor": 2
}
