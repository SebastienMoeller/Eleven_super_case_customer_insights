{
 "cells": [
  {
   "cell_type": "markdown",
   "metadata": {},
   "source": [
    "# Using XGBoost to build a Random Forest"
   ]
  },
  {
   "cell_type": "code",
   "execution_count": 1,
   "metadata": {},
   "outputs": [
    {
     "name": "stdout",
     "output_type": "stream",
     "text": [
      "Accuracy: 98.49%\n"
     ]
    },
    {
     "name": "stderr",
     "output_type": "stream",
     "text": [
      "C:\\ProgramData\\Anaconda3\\lib\\site-packages\\sklearn\\preprocessing\\label.py:151: DeprecationWarning: The truth value of an empty array is ambiguous. Returning False, but in future this will result in an error. Use `array.size > 0` to check that an array is not empty.\n",
      "  if diff:\n"
     ]
    }
   ],
   "source": [
    "# Import libraries\n",
    "import pandas as pd\n",
    "import xgboost as xgb\n",
    "from xgboost import XGBClassifier\n",
    "from sklearn.model_selection import train_test_split\n",
    "from sklearn.preprocessing import OneHotEncoder, LabelEncoder\n",
    "from sklearn.metrics import accuracy_score\n",
    "# Define data location\n",
    "data_path = 'Data/'\n",
    "# Load model_data\n",
    "A = pd.read_csv(data_path + 'labeled_A.csv')\n",
    "B = pd.read_csv(data_path + 'labeled_B.csv')\n",
    "C = pd.read_csv(data_path + 'labeled_C.csv')\n",
    "data = A.append(B, sort=False).append(C, sort=False)\n",
    "data = data.loc[:, ~data.columns.str.contains('^Unnamed')]\n",
    "# Replace NaN with 'Na' a string\n",
    "data = data.fillna('Na')\n",
    "# Filter by variables that appear useful in distinguishing between the two sets found during exploration of the data\n",
    "data = data[['DEVICE_TYPE', 'GLOBAL_SOURCES', 'landing_page', 'nb_pages_unique', 'second_page', \n",
    "             'time_before_final','PRE_TAX_AMOUNT', 'hour_sin', 'hour_cos','label']]\n",
    "# Subset columns to categorical values as they need to be transformed through OneHotEncoding\n",
    "categorical = data.select_dtypes(include=[object])\n",
    "data = data.drop(categorical.drop('label', axis = 1).columns, axis = 1)\n",
    "# We split the data into three groups\n",
    "# 1. Certain Magazine\n",
    "# 2. Certain Online\n",
    "# 3. Unknown - marked 'Na'\n",
    "# We only train the model on customers we know\n",
    "model_data = data[data.label != 'Na']\n",
    "X = model_data.iloc[:,:-1]\n",
    "y = model_data.iloc[:,-1]\n",
    "# Train/Test split\n",
    "X_train, X_test, y_train, y_test = train_test_split(X, y, test_size=0.3, random_state=42)\n",
    "# XGBoost\n",
    "model = XGBClassifier()\n",
    "model.fit(X_train, y_train)\n",
    "# Prediction\n",
    "y_pred = model.predict(X_test)\n",
    "predictions = y_pred\n",
    "# Evaluate Predictions\n",
    "accuracy = accuracy_score(y_test, predictions)\n",
    "print(\"Accuracy: %.2f%%\" % (accuracy * 100.0))"
   ]
  },
  {
   "cell_type": "markdown",
   "metadata": {},
   "source": [
    "# Real Conversion Rate Proportion Calculation"
   ]
  },
  {
   "cell_type": "code",
   "execution_count": 2,
   "metadata": {},
   "outputs": [
    {
     "name": "stderr",
     "output_type": "stream",
     "text": [
      "C:\\ProgramData\\Anaconda3\\lib\\site-packages\\sklearn\\preprocessing\\label.py:151: DeprecationWarning: The truth value of an empty array is ambiguous. Returning False, but in future this will result in an error. Use `array.size > 0` to check that an array is not empty.\n",
      "  if diff:\n"
     ]
    }
   ],
   "source": [
    "# Unknown labels from group 3 described above.\n",
    "A = pd.read_csv(data_path + 'visit_sessions_transac_label_assigned_2017-08.csv')\n",
    "B = pd.read_csv(data_path + 'visit_sessions_transac_label_assigned_2017-09.csv')\n",
    "C = pd.read_csv(data_path + 'visit_sessions_transac_label_assigned_2017-10.csv')\n",
    "D = pd.read_csv(data_path + 'visit_sessions_transac_label_assigned_2017-11.csv')\n",
    "E = pd.read_csv(data_path + 'visit_sessions_transac_label_assigned_2017-12.csv')\n",
    "F = pd.read_csv(data_path + 'visit_sessions_transac_label_assigned_2018-01.csv')\n",
    "G = pd.read_csv(data_path + 'visit_sessions_transac_label_assigned_2018-02.csv')\n",
    "H = pd.read_csv(data_path + 'visit_sessions_transac_label_assigned_2018-03.csv')\n",
    "data_validate = A.append(B, sort=False).append(C, sort=False).append(D, sort=False).append(E, sort=False).append(F, sort=False).append(G, sort=False).append(H, sort=False)\n",
    "data_validate = data_validate.loc[:, ~data_validate.columns.str.contains('^Unnamed')]\n",
    "data_validate = data_validate.fillna('Na')\n",
    "data_validate = data_validate[['DEVICE_TYPE', 'GLOBAL_SOURCES', 'landing_page', 'nb_pages_unique', 'second_page', \n",
    "             'time_before_final','PRE_TAX_AMOUNT', 'hour_sin', 'hour_cos','label']]\n",
    "data_validate = data_validate.drop(categorical.drop('label', axis = 1).columns, axis = 1)\n",
    "\n",
    "X = data_validate.iloc[:,:-1]\n",
    "y = data_validate.iloc[:,-1]\n",
    "# Use these predictions to calculate the real conversion rate proportions\n",
    "y_pred = model.predict(X_test)"
   ]
  },
  {
   "cell_type": "code",
   "execution_count": 3,
   "metadata": {},
   "outputs": [
    {
     "data": {
      "text/plain": [
       "0.5296152183311716"
      ]
     },
     "execution_count": 3,
     "metadata": {},
     "output_type": "execute_result"
    }
   ],
   "source": [
    "# Real Coversion Rate Proportion\n",
    "len(y_pred[y_pred == 'catalogue_customer'])/len(y_pred)"
   ]
  }
 ],
 "metadata": {
  "kernelspec": {
   "display_name": "Python 3",
   "language": "python",
   "name": "python3"
  },
  "language_info": {
   "codemirror_mode": {
    "name": "ipython",
    "version": 3
   },
   "file_extension": ".py",
   "mimetype": "text/x-python",
   "name": "python",
   "nbconvert_exporter": "python",
   "pygments_lexer": "ipython3",
   "version": "3.6.5"
  }
 },
 "nbformat": 4,
 "nbformat_minor": 2
}
