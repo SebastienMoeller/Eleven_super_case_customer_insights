{
 "cells": [
  {
   "cell_type": "code",
   "execution_count": 278,
   "metadata": {},
   "outputs": [],
   "source": [
    "import pandas as pd\n",
    "from os import listdir\n",
    "from os.path import isfile, join\n",
    "from multiprocessing import Pool\n",
    "from tqdm import tqdm\n",
    "import pickle\n",
    "from datetime import datetime\n",
    "from datetime import timedelta"
   ]
  },
  {
   "cell_type": "markdown",
   "metadata": {},
   "source": [
    "Loading in all data for inspection:\n",
    "0. data volume\n",
    "1. field consistancy\n",
    "2. missing values anywhere at all\n",
    "3. data types\n",
    "4. basic visualisation for relevant cols\n",
    "5. etc"
   ]
  },
  {
   "cell_type": "code",
   "execution_count": 191,
   "metadata": {},
   "outputs": [],
   "source": [
    "data_path = '/Users/ruoyangzhang/Documents/PythonWorkingDirectory/Eleven_super_case_customer_insights_Data/'\n",
    "onlyfiles = [f for f in listdir(data_path) if isfile(join(data_path, f))]"
   ]
  },
  {
   "cell_type": "code",
   "execution_count": 27,
   "metadata": {},
   "outputs": [
    {
     "name": "stdout",
     "output_type": "stream",
     "text": [
      "the inspected non log file is :TABLE_CONVERSION.csv\n",
      "it has:  580404 lines\n",
      "the inspected non log file is :.DS_Store\n",
      "it has:  0 lines\n",
      "the inspected non log file is :CLIENTS.csv\n",
      "it has:  3125800 lines\n",
      "the inspected log file is: LOG_WEB_201710.csv\n",
      "it has:  3301363 lines\n",
      "the inspected log file is: LOG_WEB_201711.csv\n",
      "it has:  5055599 lines\n",
      "the inspected non log file is :CMD.csv\n",
      "it has:  7323227 lines\n",
      "the inspected log file is: LOG_WEB_201712.csv\n",
      "it has:  4535451 lines\n",
      "the inspected log file is: LOG_WEB_201708.csv\n",
      "it has:  2189118 lines\n",
      "the inspected log file is: LOG_WEB_201709.csv\n",
      "it has:  2874217 lines\n",
      "the inspected log file is: LOG_WEB_201801.csv\n"
     ]
    },
    {
     "name": "stderr",
     "output_type": "stream",
     "text": [
      "/Users/ruoyangzhang/anaconda3/lib/python3.6/site-packages/IPython/core/interactiveshell.py:2728: DtypeWarning: Columns (6) have mixed types. Specify dtype option on import or set low_memory=False.\n",
      "  interactivity=interactivity, compiler=compiler, result=result)\n"
     ]
    },
    {
     "name": "stdout",
     "output_type": "stream",
     "text": [
      "it has:  8450825 lines\n",
      "the inspected log file is: LOG_WEB_201802.csv\n",
      "it has:  6063362 lines\n",
      "the inspected log file is: LOG_WEB_201803.csv\n",
      "it has:  2739719 lines\n"
     ]
    }
   ],
   "source": [
    "for file in onlyfiles:\n",
    "    if file[:3] == 'LOG':\n",
    "        print('the inspected log file is: ' + file)\n",
    "    else:\n",
    "        print('the inspected non log file is :' + file)\n",
    "    print('it has: ', len(pd.read_csv('data/' + file, sep = ';', error_bad_lines = False)), 'lines')"
   ]
  },
  {
   "cell_type": "markdown",
   "metadata": {},
   "source": [
    "these files are rather large containing many lines, we should use a subset to test the robustness of the classification"
   ]
  },
  {
   "cell_type": "code",
   "execution_count": 194,
   "metadata": {},
   "outputs": [],
   "source": [
    "data_201708 = pd.read_csv(data_path+'LOG_WEB_201708.csv', sep=';')"
   ]
  },
  {
   "cell_type": "code",
   "execution_count": 35,
   "metadata": {},
   "outputs": [],
   "source": [
    "colns = sorted([col for col in list(data_201708.columns) if col[:3] != 'Unn'])"
   ]
  },
  {
   "cell_type": "code",
   "execution_count": 37,
   "metadata": {},
   "outputs": [
    {
     "name": "stdout",
     "output_type": "stream",
     "text": [
      "the columns match the example columns:  True\n",
      "the columns match the example columns:  True\n",
      "the columns match the example columns:  True\n",
      "the columns match the example columns:  True\n",
      "the columns match the example columns:  True\n"
     ]
    },
    {
     "name": "stderr",
     "output_type": "stream",
     "text": [
      "/Users/ruoyangzhang/anaconda3/lib/python3.6/site-packages/IPython/core/interactiveshell.py:2728: DtypeWarning: Columns (6) have mixed types. Specify dtype option on import or set low_memory=False.\n",
      "  interactivity=interactivity, compiler=compiler, result=result)\n"
     ]
    },
    {
     "name": "stdout",
     "output_type": "stream",
     "text": [
      "the columns match the example columns:  True\n",
      "the columns match the example columns:  True\n",
      "the columns match the example columns:  True\n"
     ]
    }
   ],
   "source": [
    "for file in onlyfiles:\n",
    "    if file[:3] == 'LOG':\n",
    "        colns_check = sorted([col for col in list(pd.read_csv('data/' + file, sep = ';').columns) if col[:3] != 'Unn'])\n",
    "        print('the columns match the example columns: ', colns_check == colns)\n",
    "        if colns_check != colns:\n",
    "            print('the file with unmatched cols is: ', file)"
   ]
  },
  {
   "cell_type": "markdown",
   "metadata": {},
   "source": [
    "So the 201709 file is not matched, let's take a look at what's going on"
   ]
  },
  {
   "cell_type": "code",
   "execution_count": 195,
   "metadata": {},
   "outputs": [],
   "source": [
    "data_201709 = pd.read_csv(data_path+'LOG_WEB_201709.csv', sep=';')"
   ]
  },
  {
   "cell_type": "code",
   "execution_count": 97,
   "metadata": {
    "scrolled": true
   },
   "outputs": [
    {
     "data": {
      "text/plain": [
       "Index(['Unnamed: 0', 'Unnamed: 0.1', 'VISITOR_ID', 'CONNECTED_SESSION',\n",
       "       'ID_SESSION', 'SESSION_START_DATE', 'EVENT_DATE', 'PAGES',\n",
       "       'GLOBAL_SOURCES', 'DEVICE_TYPE', 'DEVICE_MODEL', 'LOADINGS'],\n",
       "      dtype='object')"
      ]
     },
     "execution_count": 97,
     "metadata": {},
     "output_type": "execute_result"
    }
   ],
   "source": [
    "data_201709.columns"
   ]
  },
  {
   "cell_type": "code",
   "execution_count": 54,
   "metadata": {},
   "outputs": [
    {
     "data": {
      "text/plain": [
       "{'Accès Direct',\n",
       " 'Affiliation et partenaires',\n",
       " 'Email marketing',\n",
       " 'Liens Sponsorisés',\n",
       " 'Moteurs',\n",
       " 'Notoriété',\n",
       " 'Publicité',\n",
       " 'Sites affluents',\n",
       " 'Sources naturelles personnalisées',\n",
       " 'Webmails'}"
      ]
     },
     "execution_count": 54,
     "metadata": {},
     "output_type": "execute_result"
    }
   ],
   "source": [
    "set(data_201709.GLOBAL_SOURCES)"
   ]
  },
  {
   "cell_type": "markdown",
   "metadata": {},
   "source": [
    "Let's take a look at the non log files"
   ]
  },
  {
   "cell_type": "code",
   "execution_count": 196,
   "metadata": {},
   "outputs": [],
   "source": [
    "conver = pd.read_csv(data_path+'TABLE_CONVERSION_new.csv', sep = ';')"
   ]
  },
  {
   "cell_type": "code",
   "execution_count": 132,
   "metadata": {},
   "outputs": [
    {
     "data": {
      "text/html": [
       "<div>\n",
       "<style scoped>\n",
       "    .dataframe tbody tr th:only-of-type {\n",
       "        vertical-align: middle;\n",
       "    }\n",
       "\n",
       "    .dataframe tbody tr th {\n",
       "        vertical-align: top;\n",
       "    }\n",
       "\n",
       "    .dataframe thead th {\n",
       "        text-align: right;\n",
       "    }\n",
       "</style>\n",
       "<table border=\"1\" class=\"dataframe\">\n",
       "  <thead>\n",
       "    <tr style=\"text-align: right;\">\n",
       "      <th></th>\n",
       "      <th>Unnamed: 0</th>\n",
       "      <th>VISITOR_ID</th>\n",
       "      <th>CLIENT_NUMBER</th>\n",
       "    </tr>\n",
       "  </thead>\n",
       "  <tbody>\n",
       "    <tr>\n",
       "      <th>0</th>\n",
       "      <td>0</td>\n",
       "      <td>153926</td>\n",
       "      <td>2117916268519517296</td>\n",
       "    </tr>\n",
       "    <tr>\n",
       "      <th>1</th>\n",
       "      <td>1</td>\n",
       "      <td>153987</td>\n",
       "      <td>-3983308646720649306</td>\n",
       "    </tr>\n",
       "    <tr>\n",
       "      <th>2</th>\n",
       "      <td>2</td>\n",
       "      <td>153992</td>\n",
       "      <td>-2525192206264180159</td>\n",
       "    </tr>\n",
       "    <tr>\n",
       "      <th>3</th>\n",
       "      <td>3</td>\n",
       "      <td>153996</td>\n",
       "      <td>1543724696132514059</td>\n",
       "    </tr>\n",
       "    <tr>\n",
       "      <th>4</th>\n",
       "      <td>4</td>\n",
       "      <td>154002</td>\n",
       "      <td>-3753347333864614269</td>\n",
       "    </tr>\n",
       "  </tbody>\n",
       "</table>\n",
       "</div>"
      ],
      "text/plain": [
       "   Unnamed: 0  VISITOR_ID        CLIENT_NUMBER\n",
       "0           0      153926  2117916268519517296\n",
       "1           1      153987 -3983308646720649306\n",
       "2           2      153992 -2525192206264180159\n",
       "3           3      153996  1543724696132514059\n",
       "4           4      154002 -3753347333864614269"
      ]
     },
     "execution_count": 132,
     "metadata": {},
     "output_type": "execute_result"
    }
   ],
   "source": [
    "conver.head()"
   ]
  },
  {
   "cell_type": "code",
   "execution_count": 197,
   "metadata": {},
   "outputs": [],
   "source": [
    "clients = pd.read_csv(data_path+'CLIENTS_new.csv', sep = ';')"
   ]
  },
  {
   "cell_type": "code",
   "execution_count": 134,
   "metadata": {},
   "outputs": [
    {
     "data": {
      "text/html": [
       "<div>\n",
       "<style scoped>\n",
       "    .dataframe tbody tr th:only-of-type {\n",
       "        vertical-align: middle;\n",
       "    }\n",
       "\n",
       "    .dataframe tbody tr th {\n",
       "        vertical-align: top;\n",
       "    }\n",
       "\n",
       "    .dataframe thead th {\n",
       "        text-align: right;\n",
       "    }\n",
       "</style>\n",
       "<table border=\"1\" class=\"dataframe\">\n",
       "  <thead>\n",
       "    <tr style=\"text-align: right;\">\n",
       "      <th></th>\n",
       "      <th>Unnamed: 0</th>\n",
       "      <th>CLIENT_NUMBER</th>\n",
       "      <th>CREATION_DATE</th>\n",
       "      <th>GENDER</th>\n",
       "      <th>BIRTH_YEAR</th>\n",
       "      <th>ZIPCODE</th>\n",
       "    </tr>\n",
       "  </thead>\n",
       "  <tbody>\n",
       "    <tr>\n",
       "      <th>0</th>\n",
       "      <td>0</td>\n",
       "      <td>-1182315409949716431</td>\n",
       "      <td>2002-12-05</td>\n",
       "      <td>Mme</td>\n",
       "      <td>1955.0</td>\n",
       "      <td>68440</td>\n",
       "    </tr>\n",
       "    <tr>\n",
       "      <th>1</th>\n",
       "      <td>1</td>\n",
       "      <td>7142641182482142162</td>\n",
       "      <td>2002-12-05</td>\n",
       "      <td>Mme</td>\n",
       "      <td>NaN</td>\n",
       "      <td>24100</td>\n",
       "    </tr>\n",
       "    <tr>\n",
       "      <th>2</th>\n",
       "      <td>2</td>\n",
       "      <td>-4786858050561650068</td>\n",
       "      <td>2002-12-05</td>\n",
       "      <td>Mme</td>\n",
       "      <td>1945.0</td>\n",
       "      <td>39240</td>\n",
       "    </tr>\n",
       "    <tr>\n",
       "      <th>3</th>\n",
       "      <td>3</td>\n",
       "      <td>-8463163259230597037</td>\n",
       "      <td>2002-12-05</td>\n",
       "      <td>Mme</td>\n",
       "      <td>NaN</td>\n",
       "      <td>42290</td>\n",
       "    </tr>\n",
       "    <tr>\n",
       "      <th>4</th>\n",
       "      <td>4</td>\n",
       "      <td>-8047395753631590665</td>\n",
       "      <td>2003-10-06</td>\n",
       "      <td>Mme</td>\n",
       "      <td>1934.0</td>\n",
       "      <td>13006</td>\n",
       "    </tr>\n",
       "  </tbody>\n",
       "</table>\n",
       "</div>"
      ],
      "text/plain": [
       "   Unnamed: 0        CLIENT_NUMBER CREATION_DATE GENDER  BIRTH_YEAR ZIPCODE\n",
       "0           0 -1182315409949716431    2002-12-05    Mme      1955.0   68440\n",
       "1           1  7142641182482142162    2002-12-05    Mme         NaN   24100\n",
       "2           2 -4786858050561650068    2002-12-05    Mme      1945.0   39240\n",
       "3           3 -8463163259230597037    2002-12-05    Mme         NaN   42290\n",
       "4           4 -8047395753631590665    2003-10-06    Mme      1934.0   13006"
      ]
     },
     "execution_count": 134,
     "metadata": {},
     "output_type": "execute_result"
    }
   ],
   "source": [
    "clients.head()"
   ]
  },
  {
   "cell_type": "code",
   "execution_count": 198,
   "metadata": {},
   "outputs": [],
   "source": [
    "CMD = pd.read_csv(data_path+'CMD_new.csv', sep = ';')"
   ]
  },
  {
   "cell_type": "code",
   "execution_count": 136,
   "metadata": {},
   "outputs": [
    {
     "data": {
      "text/html": [
       "<div>\n",
       "<style scoped>\n",
       "    .dataframe tbody tr th:only-of-type {\n",
       "        vertical-align: middle;\n",
       "    }\n",
       "\n",
       "    .dataframe tbody tr th {\n",
       "        vertical-align: top;\n",
       "    }\n",
       "\n",
       "    .dataframe thead th {\n",
       "        text-align: right;\n",
       "    }\n",
       "</style>\n",
       "<table border=\"1\" class=\"dataframe\">\n",
       "  <thead>\n",
       "    <tr style=\"text-align: right;\">\n",
       "      <th></th>\n",
       "      <th>Unnamed: 0</th>\n",
       "      <th>CLIENT_NUMBER</th>\n",
       "      <th>ORDER_NUMBER</th>\n",
       "      <th>ORDER_DATE</th>\n",
       "      <th>ORDER_CHANNEL</th>\n",
       "      <th>PRE_TAX_AMOUNT</th>\n",
       "      <th>CVIC</th>\n",
       "    </tr>\n",
       "  </thead>\n",
       "  <tbody>\n",
       "    <tr>\n",
       "      <th>0</th>\n",
       "      <td>0</td>\n",
       "      <td>7178742953965764755</td>\n",
       "      <td>2302390</td>\n",
       "      <td>2010-01-05</td>\n",
       "      <td>Telephone</td>\n",
       "      <td>84.28</td>\n",
       "      <td>True</td>\n",
       "    </tr>\n",
       "    <tr>\n",
       "      <th>1</th>\n",
       "      <td>1</td>\n",
       "      <td>-2373390172893352743</td>\n",
       "      <td>2302392</td>\n",
       "      <td>2010-01-17</td>\n",
       "      <td>Telephone</td>\n",
       "      <td>97.85</td>\n",
       "      <td>True</td>\n",
       "    </tr>\n",
       "    <tr>\n",
       "      <th>2</th>\n",
       "      <td>2</td>\n",
       "      <td>-240944575938990062</td>\n",
       "      <td>2302393</td>\n",
       "      <td>2010-01-05</td>\n",
       "      <td>Telephone</td>\n",
       "      <td>58.45</td>\n",
       "      <td>True</td>\n",
       "    </tr>\n",
       "    <tr>\n",
       "      <th>3</th>\n",
       "      <td>3</td>\n",
       "      <td>1720395480962300217</td>\n",
       "      <td>2302394</td>\n",
       "      <td>2010-01-05</td>\n",
       "      <td>Telephone</td>\n",
       "      <td>31.19</td>\n",
       "      <td>True</td>\n",
       "    </tr>\n",
       "    <tr>\n",
       "      <th>4</th>\n",
       "      <td>4</td>\n",
       "      <td>7161131950067982732</td>\n",
       "      <td>2302396</td>\n",
       "      <td>2010-01-14</td>\n",
       "      <td>Telephone</td>\n",
       "      <td>37.45</td>\n",
       "      <td>True</td>\n",
       "    </tr>\n",
       "  </tbody>\n",
       "</table>\n",
       "</div>"
      ],
      "text/plain": [
       "   Unnamed: 0        CLIENT_NUMBER  ORDER_NUMBER  ORDER_DATE ORDER_CHANNEL  \\\n",
       "0           0  7178742953965764755       2302390  2010-01-05     Telephone   \n",
       "1           1 -2373390172893352743       2302392  2010-01-17     Telephone   \n",
       "2           2  -240944575938990062       2302393  2010-01-05     Telephone   \n",
       "3           3  1720395480962300217       2302394  2010-01-05     Telephone   \n",
       "4           4  7161131950067982732       2302396  2010-01-14     Telephone   \n",
       "\n",
       "   PRE_TAX_AMOUNT  CVIC  \n",
       "0           84.28  True  \n",
       "1           97.85  True  \n",
       "2           58.45  True  \n",
       "3           31.19  True  \n",
       "4           37.45  True  "
      ]
     },
     "execution_count": 136,
     "metadata": {},
     "output_type": "execute_result"
    }
   ],
   "source": [
    "CMD.head()"
   ]
  },
  {
   "cell_type": "code",
   "execution_count": 51,
   "metadata": {},
   "outputs": [
    {
     "data": {
      "text/plain": [
       "{'Courier', 'Internet', 'Magasin', 'Non Renseigne', 'Telephone'}"
      ]
     },
     "execution_count": 51,
     "metadata": {},
     "output_type": "execute_result"
    }
   ],
   "source": [
    "set(CMD.ORDER_CHANNEL)"
   ]
  },
  {
   "cell_type": "code",
   "execution_count": 53,
   "metadata": {},
   "outputs": [
    {
     "data": {
      "text/plain": [
       "(7323227, 1604670)"
      ]
     },
     "execution_count": 53,
     "metadata": {},
     "output_type": "execute_result"
    }
   ],
   "source": [
    "len(CMD.CLIENT_NUMBER), len(set(CMD.CLIENT_NUMBER))"
   ]
  },
  {
   "cell_type": "markdown",
   "metadata": {},
   "source": [
    "as expected, over the years, one clients made multiple purchases"
   ]
  },
  {
   "cell_type": "markdown",
   "metadata": {},
   "source": [
    "As informed the supervisor, the CVIC column is the column that identifies the users who use promo codes"
   ]
  },
  {
   "cell_type": "markdown",
   "metadata": {},
   "source": [
    "We have a general look around the order channel and the CVIC column"
   ]
  },
  {
   "cell_type": "code",
   "execution_count": 199,
   "metadata": {},
   "outputs": [],
   "source": [
    "CMD = CMD.drop(['Unnamed: 0'], axis = 1)"
   ]
  },
  {
   "cell_type": "code",
   "execution_count": 200,
   "metadata": {},
   "outputs": [
    {
     "data": {
      "text/plain": [
       "(1648148, 7323227)"
      ]
     },
     "execution_count": 200,
     "metadata": {},
     "output_type": "execute_result"
    }
   ],
   "source": [
    "len(CMD[['Internet' == channel for channel in CMD.ORDER_CHANNEL]]), len(CMD)"
   ]
  },
  {
   "cell_type": "code",
   "execution_count": 64,
   "metadata": {
    "collapsed": true
   },
   "outputs": [
    {
     "data": {
      "text/plain": [
       "633861     False\n",
       "634168     False\n",
       "634413     False\n",
       "635627     False\n",
       "636492     False\n",
       "637017     False\n",
       "637785     False\n",
       "637833     False\n",
       "638038     False\n",
       "638045     False\n",
       "1341334    False\n",
       "1341945    False\n",
       "1344864    False\n",
       "1346825    False\n",
       "1349597    False\n",
       "1350807    False\n",
       "1354861    False\n",
       "1355086    False\n",
       "1355754    False\n",
       "1357128    False\n",
       "1362250    False\n",
       "1362834    False\n",
       "1364217    False\n",
       "1364964    False\n",
       "1366807    False\n",
       "1369690    False\n",
       "2410345     True\n",
       "2410346     True\n",
       "2410347    False\n",
       "2410348     True\n",
       "           ...  \n",
       "6724543     True\n",
       "6724544     True\n",
       "6724545     True\n",
       "6724546     True\n",
       "6724547    False\n",
       "6724548    False\n",
       "6724549    False\n",
       "6724550    False\n",
       "6724551    False\n",
       "6724552    False\n",
       "6724553    False\n",
       "6724554    False\n",
       "6724555     True\n",
       "6724556    False\n",
       "6724557    False\n",
       "6724558    False\n",
       "6724559    False\n",
       "6724560     True\n",
       "6724561    False\n",
       "6724562    False\n",
       "6724563     True\n",
       "6724564     True\n",
       "6724565    False\n",
       "6724566    False\n",
       "6724567     True\n",
       "6724568     True\n",
       "6724569    False\n",
       "6724570    False\n",
       "6724571     True\n",
       "6724572    False\n",
       "Name: CVIC, Length: 1648148, dtype: bool"
      ]
     },
     "execution_count": 64,
     "metadata": {},
     "output_type": "execute_result"
    }
   ],
   "source": [
    "CMD[['Internet' == channel for channel in CMD.ORDER_CHANNEL]].CVIC"
   ]
  },
  {
   "cell_type": "code",
   "execution_count": 202,
   "metadata": {},
   "outputs": [],
   "source": [
    "def desired_group(row):\n",
    "    if row['CVIC'] == True:\n",
    "        if row['ORDER_CHANNEL'] == 'Internet':\n",
    "            if row['ORDER_DATE'][:4] == '2017':\n",
    "                if int(row['ORDER_DATE'][5:7]) >= 8:\n",
    "                    return(True)\n",
    "            if row['ORDER_DATE'][:4] == '2018':\n",
    "                return(True)"
   ]
  },
  {
   "cell_type": "code",
   "execution_count": 203,
   "metadata": {},
   "outputs": [
    {
     "name": "stderr",
     "output_type": "stream",
     "text": [
      "7323227it [06:15, 19523.70it/s]\n"
     ]
    }
   ],
   "source": [
    "internet_promo_users = [(row['CLIENT_NUMBER'], row['ORDER_NUMBER'], row['ORDER_DATE'][:7]) for i, row in tqdm(CMD.iterrows()) if desired_group(row)]\n"
   ]
  },
  {
   "cell_type": "code",
   "execution_count": 204,
   "metadata": {},
   "outputs": [
    {
     "data": {
      "text/plain": [
       "51407"
      ]
     },
     "execution_count": 204,
     "metadata": {},
     "output_type": "execute_result"
    }
   ],
   "source": [
    "len(internet_promo_users)"
   ]
  },
  {
   "cell_type": "code",
   "execution_count": 205,
   "metadata": {},
   "outputs": [
    {
     "data": {
      "text/plain": [
       "(41804, 51407)"
      ]
     },
     "execution_count": 205,
     "metadata": {},
     "output_type": "execute_result"
    }
   ],
   "source": [
    "len(set([pair[0] for pair in internet_promo_users])),len(set([pair[1] for pair in internet_promo_users]))"
   ]
  },
  {
   "cell_type": "code",
   "execution_count": 206,
   "metadata": {},
   "outputs": [],
   "source": [
    "net_catalog_order = [pair[1] for pair in internet_promo_users]"
   ]
  },
  {
   "cell_type": "code",
   "execution_count": 207,
   "metadata": {},
   "outputs": [],
   "source": [
    "net_catalog_client = list(set([pair[0] for pair in internet_promo_users]))"
   ]
  },
  {
   "cell_type": "code",
   "execution_count": 208,
   "metadata": {},
   "outputs": [
    {
     "data": {
      "text/plain": [
       "41804"
      ]
     },
     "execution_count": 208,
     "metadata": {},
     "output_type": "execute_result"
    }
   ],
   "source": [
    "len(net_catalog_client)"
   ]
  },
  {
   "cell_type": "code",
   "execution_count": 209,
   "metadata": {
    "collapsed": true
   },
   "outputs": [
    {
     "data": {
      "text/plain": [
       "{'Courier': 3543250,\n",
       " 'Internet': 1648148,\n",
       " 'Magasin': 727577,\n",
       " 'Non Renseigne': 3971,\n",
       " 'Telephone': 1400281}"
      ]
     },
     "execution_count": 209,
     "metadata": {},
     "output_type": "execute_result"
    }
   ],
   "source": [
    "{identified_order_channels[i]:res_value_count[i] for i in range(len(identified_order_channels))}"
   ]
  },
  {
   "cell_type": "markdown",
   "metadata": {},
   "source": [
    "We create a dico in order to be able to easily seperate the order ids and link them to the specific datasets"
   ]
  },
  {
   "cell_type": "code",
   "execution_count": 210,
   "metadata": {},
   "outputs": [],
   "source": [
    "all_periods = list(set([tri[2] for tri in internet_promo_users]))"
   ]
  },
  {
   "cell_type": "code",
   "execution_count": 212,
   "metadata": {},
   "outputs": [
    {
     "name": "stderr",
     "output_type": "stream",
     "text": [
      "100%|██████████| 51407/51407 [00:00<00:00, 1245388.41it/s]\n"
     ]
    }
   ],
   "source": [
    "orders_by_date = {}\n",
    "for tri in tqdm(internet_promo_users):\n",
    "    if tri[2] not in orders_by_date.keys():\n",
    "        orders_by_date[tri[2]] = []\n",
    "    else:\n",
    "        orders_by_date[tri[2]].append(tri[1])"
   ]
  },
  {
   "cell_type": "code",
   "execution_count": 213,
   "metadata": {},
   "outputs": [
    {
     "name": "stderr",
     "output_type": "stream",
     "text": [
      "100%|██████████| 51407/51407 [00:00<00:00, 1253577.51it/s]\n"
     ]
    }
   ],
   "source": [
    "client_by_date = {}\n",
    "for tri in tqdm(internet_promo_users):\n",
    "    if tri[2] not in client_by_date.keys():\n",
    "        client_by_date[tri[2]] = []\n",
    "    else:\n",
    "        client_by_date[tri[2]].append(tri[0])"
   ]
  },
  {
   "cell_type": "code",
   "execution_count": 214,
   "metadata": {},
   "outputs": [
    {
     "data": {
      "text/plain": [
       "{'2017-08': 5966,\n",
       " '2017-09': 4698,\n",
       " '2017-10': 5118,\n",
       " '2017-11': 5889,\n",
       " '2017-12': 4919,\n",
       " '2018-01': 6206,\n",
       " '2018-02': 3457,\n",
       " '2018-03': 5472,\n",
       " '2018-04': 4006,\n",
       " '2018-05': 4878,\n",
       " '2018-06': 787}"
      ]
     },
     "execution_count": 214,
     "metadata": {},
     "output_type": "execute_result"
    }
   ],
   "source": [
    "{k:len(v) for k,v in orders_by_date.items()}"
   ]
  },
  {
   "cell_type": "code",
   "execution_count": 215,
   "metadata": {},
   "outputs": [
    {
     "data": {
      "text/plain": [
       "{'2017-08': 5739,\n",
       " '2017-09': 4557,\n",
       " '2017-10': 4981,\n",
       " '2017-11': 5715,\n",
       " '2017-12': 4802,\n",
       " '2018-01': 6005,\n",
       " '2018-02': 3378,\n",
       " '2018-03': 5285,\n",
       " '2018-04': 3885,\n",
       " '2018-05': 4711,\n",
       " '2018-06': 775}"
      ]
     },
     "execution_count": 215,
     "metadata": {},
     "output_type": "execute_result"
    }
   ],
   "source": [
    "client_by_date = {date: list(set(clients)) for date, clients in client_by_date.items()}\n",
    "{k:len(v) for k,v in client_by_date.items()}"
   ]
  },
  {
   "cell_type": "code",
   "execution_count": 216,
   "metadata": {
    "collapsed": true
   },
   "outputs": [
    {
     "name": "stdout",
     "output_type": "stream",
     "text": [
      "True\n",
      "True\n",
      "True\n",
      "True\n",
      "True\n",
      "True\n",
      "True\n",
      "True\n",
      "True\n",
      "True\n",
      "True\n"
     ]
    }
   ],
   "source": [
    "for key in all_periods:\n",
    "    print(len(client_by_date[key]) <= len(orders_by_date[key]))"
   ]
  },
  {
   "cell_type": "markdown",
   "metadata": {},
   "source": [
    "number of unique clients compared with number of unique orders is consistant, let's save this to a pickle for easier access later on"
   ]
  },
  {
   "cell_type": "code",
   "execution_count": 218,
   "metadata": {},
   "outputs": [],
   "source": [
    "with open(data_path+'client_by_date.pickle', 'wb') as handle:\n",
    "    pickle.dump(client_by_date, handle, protocol=pickle.HIGHEST_PROTOCOL)\n",
    "    \n",
    "with open(data_path+'orders_by_date.pickle', 'wb') as handle:\n",
    "    pickle.dump(orders_by_date, handle, protocol=pickle.HIGHEST_PROTOCOL)"
   ]
  },
  {
   "cell_type": "markdown",
   "metadata": {},
   "source": [
    "Loading in the pickles"
   ]
  },
  {
   "cell_type": "code",
   "execution_count": 219,
   "metadata": {},
   "outputs": [],
   "source": [
    "with open(data_path+'client_by_date.pickle', 'rb') as handle:\n",
    "    client_by_date = pickle.load(handle)\n",
    "    \n",
    "with open(data_path+'orders_by_date.pickle', 'rb') as handle:\n",
    "    orders_by_date = pickle.load(handle)"
   ]
  },
  {
   "cell_type": "markdown",
   "metadata": {},
   "source": [
    "Let's take a look at at least one month the clients behaviour to see if there is anything worth noting"
   ]
  },
  {
   "cell_type": "markdown",
   "metadata": {},
   "source": [
    "We link the client numbers to the log files by the visitor ID variable in the conversion table"
   ]
  },
  {
   "cell_type": "code",
   "execution_count": 221,
   "metadata": {},
   "outputs": [
    {
     "data": {
      "text/html": [
       "<div>\n",
       "<style scoped>\n",
       "    .dataframe tbody tr th:only-of-type {\n",
       "        vertical-align: middle;\n",
       "    }\n",
       "\n",
       "    .dataframe tbody tr th {\n",
       "        vertical-align: top;\n",
       "    }\n",
       "\n",
       "    .dataframe thead th {\n",
       "        text-align: right;\n",
       "    }\n",
       "</style>\n",
       "<table border=\"1\" class=\"dataframe\">\n",
       "  <thead>\n",
       "    <tr style=\"text-align: right;\">\n",
       "      <th></th>\n",
       "      <th>VISITOR_ID</th>\n",
       "      <th>CLIENT_NUMBER</th>\n",
       "    </tr>\n",
       "  </thead>\n",
       "  <tbody>\n",
       "    <tr>\n",
       "      <th>0</th>\n",
       "      <td>153926</td>\n",
       "      <td>2117916268519517296</td>\n",
       "    </tr>\n",
       "    <tr>\n",
       "      <th>1</th>\n",
       "      <td>153987</td>\n",
       "      <td>-3983308646720649306</td>\n",
       "    </tr>\n",
       "    <tr>\n",
       "      <th>2</th>\n",
       "      <td>153992</td>\n",
       "      <td>-2525192206264180159</td>\n",
       "    </tr>\n",
       "    <tr>\n",
       "      <th>3</th>\n",
       "      <td>153996</td>\n",
       "      <td>1543724696132514059</td>\n",
       "    </tr>\n",
       "    <tr>\n",
       "      <th>4</th>\n",
       "      <td>154002</td>\n",
       "      <td>-3753347333864614269</td>\n",
       "    </tr>\n",
       "  </tbody>\n",
       "</table>\n",
       "</div>"
      ],
      "text/plain": [
       "   VISITOR_ID        CLIENT_NUMBER\n",
       "0      153926  2117916268519517296\n",
       "1      153987 -3983308646720649306\n",
       "2      153992 -2525192206264180159\n",
       "3      153996  1543724696132514059\n",
       "4      154002 -3753347333864614269"
      ]
     },
     "execution_count": 221,
     "metadata": {},
     "output_type": "execute_result"
    }
   ],
   "source": [
    "conver = conver.drop(['Unnamed: 0'], axis = 1)\n",
    "conver.head()"
   ]
  },
  {
   "cell_type": "code",
   "execution_count": 224,
   "metadata": {
    "scrolled": true
   },
   "outputs": [
    {
     "name": "stderr",
     "output_type": "stream",
     "text": [
      "580404it [00:27, 21395.51it/s]\n"
     ]
    }
   ],
   "source": [
    "conver_dict = {row['CLIENT_NUMBER']:row['VISITOR_ID'] for i, row in tqdm(conver.iterrows())}"
   ]
  },
  {
   "cell_type": "markdown",
   "metadata": {},
   "source": [
    "Now let's extract the visitor ID of the net catalogue customers for 201709"
   ]
  },
  {
   "cell_type": "code",
   "execution_count": 239,
   "metadata": {},
   "outputs": [],
   "source": [
    "net_cat_cn_1709 = client_by_date['2017-09']\n",
    "net_cat_cn_1709_cross = set(net_cat_cn_1709)&set(conver.CLIENT_NUMBER)\n",
    "net_cat_vid_1709_cross = [conver_dict[cn] for cn in net_cat_cn_1709_cross]"
   ]
  },
  {
   "cell_type": "code",
   "execution_count": 241,
   "metadata": {},
   "outputs": [
    {
     "data": {
      "text/plain": [
       "(3561, 4557, 4557)"
      ]
     },
     "execution_count": 241,
     "metadata": {},
     "output_type": "execute_result"
    }
   ],
   "source": [
    "len(set(net_cat_cn_1709)&set(conver.CLIENT_NUMBER)), len(set(net_cat_cn_1709)), len(net_cat_cn_1709)"
   ]
  },
  {
   "cell_type": "markdown",
   "metadata": {},
   "source": [
    "Clearly there is some data discrepancies, some client numbers of internet catalogue customers are not found in the conversion table, for now we use the available ones' visitor ID for further investigation"
   ]
  },
  {
   "cell_type": "code",
   "execution_count": 243,
   "metadata": {},
   "outputs": [],
   "source": [
    "data_201709 = data_201709.drop(['Unnamed: 0', 'Unnamed: 0.1'], axis = 1)"
   ]
  },
  {
   "cell_type": "code",
   "execution_count": 244,
   "metadata": {},
   "outputs": [
    {
     "data": {
      "text/html": [
       "<div>\n",
       "<style scoped>\n",
       "    .dataframe tbody tr th:only-of-type {\n",
       "        vertical-align: middle;\n",
       "    }\n",
       "\n",
       "    .dataframe tbody tr th {\n",
       "        vertical-align: top;\n",
       "    }\n",
       "\n",
       "    .dataframe thead th {\n",
       "        text-align: right;\n",
       "    }\n",
       "</style>\n",
       "<table border=\"1\" class=\"dataframe\">\n",
       "  <thead>\n",
       "    <tr style=\"text-align: right;\">\n",
       "      <th></th>\n",
       "      <th>VISITOR_ID</th>\n",
       "      <th>CONNECTED_SESSION</th>\n",
       "      <th>ID_SESSION</th>\n",
       "      <th>SESSION_START_DATE</th>\n",
       "      <th>EVENT_DATE</th>\n",
       "      <th>PAGES</th>\n",
       "      <th>GLOBAL_SOURCES</th>\n",
       "      <th>DEVICE_TYPE</th>\n",
       "      <th>DEVICE_MODEL</th>\n",
       "      <th>LOADINGS</th>\n",
       "    </tr>\n",
       "  </thead>\n",
       "  <tbody>\n",
       "    <tr>\n",
       "      <th>0</th>\n",
       "      <td>433347</td>\n",
       "      <td>OUI</td>\n",
       "      <td>3</td>\n",
       "      <td>2017-09-01 00:00:12</td>\n",
       "      <td>2017-09-01 00:00:12</td>\n",
       "      <td>accueil</td>\n",
       "      <td>Email marketing</td>\n",
       "      <td>Ordinateur</td>\n",
       "      <td>NaN</td>\n",
       "      <td>1</td>\n",
       "    </tr>\n",
       "    <tr>\n",
       "      <th>1</th>\n",
       "      <td>433347</td>\n",
       "      <td>OUI</td>\n",
       "      <td>3</td>\n",
       "      <td>2017-09-01 00:00:12</td>\n",
       "      <td>2017-09-01 00:07:23</td>\n",
       "      <td>accueil</td>\n",
       "      <td>Email marketing</td>\n",
       "      <td>Ordinateur</td>\n",
       "      <td>NaN</td>\n",
       "      <td>1</td>\n",
       "    </tr>\n",
       "    <tr>\n",
       "      <th>2</th>\n",
       "      <td>433347</td>\n",
       "      <td>OUI</td>\n",
       "      <td>3</td>\n",
       "      <td>2017-09-01 00:00:12</td>\n",
       "      <td>2017-09-01 00:16:51</td>\n",
       "      <td>accueil</td>\n",
       "      <td>Email marketing</td>\n",
       "      <td>Ordinateur</td>\n",
       "      <td>NaN</td>\n",
       "      <td>1</td>\n",
       "    </tr>\n",
       "    <tr>\n",
       "      <th>3</th>\n",
       "      <td>433347</td>\n",
       "      <td>OUI</td>\n",
       "      <td>3</td>\n",
       "      <td>2017-09-01 00:00:12</td>\n",
       "      <td>2017-09-01 00:19:24</td>\n",
       "      <td>accueil</td>\n",
       "      <td>Email marketing</td>\n",
       "      <td>Ordinateur</td>\n",
       "      <td>NaN</td>\n",
       "      <td>1</td>\n",
       "    </tr>\n",
       "    <tr>\n",
       "      <th>4</th>\n",
       "      <td>433347</td>\n",
       "      <td>OUI</td>\n",
       "      <td>3</td>\n",
       "      <td>2017-09-01 00:00:12</td>\n",
       "      <td>2017-09-01 00:21:12</td>\n",
       "      <td>accueil</td>\n",
       "      <td>Email marketing</td>\n",
       "      <td>Ordinateur</td>\n",
       "      <td>NaN</td>\n",
       "      <td>1</td>\n",
       "    </tr>\n",
       "    <tr>\n",
       "      <th>5</th>\n",
       "      <td>433347</td>\n",
       "      <td>OUI</td>\n",
       "      <td>3</td>\n",
       "      <td>2017-09-01 00:00:12</td>\n",
       "      <td>2017-09-01 00:24:19</td>\n",
       "      <td>accueil</td>\n",
       "      <td>Email marketing</td>\n",
       "      <td>Ordinateur</td>\n",
       "      <td>NaN</td>\n",
       "      <td>1</td>\n",
       "    </tr>\n",
       "    <tr>\n",
       "      <th>6</th>\n",
       "      <td>628575</td>\n",
       "      <td>OUI</td>\n",
       "      <td>17</td>\n",
       "      <td>2017-09-01 00:01:16</td>\n",
       "      <td>2017-09-01 00:28:05</td>\n",
       "      <td>accueil</td>\n",
       "      <td>Accès Direct</td>\n",
       "      <td>Ordinateur</td>\n",
       "      <td>NaN</td>\n",
       "      <td>1</td>\n",
       "    </tr>\n",
       "    <tr>\n",
       "      <th>7</th>\n",
       "      <td>628575</td>\n",
       "      <td>OUI</td>\n",
       "      <td>17</td>\n",
       "      <td>2017-09-01 00:01:16</td>\n",
       "      <td>2017-09-01 00:46:21</td>\n",
       "      <td>accueil</td>\n",
       "      <td>Accès Direct</td>\n",
       "      <td>Ordinateur</td>\n",
       "      <td>NaN</td>\n",
       "      <td>1</td>\n",
       "    </tr>\n",
       "    <tr>\n",
       "      <th>8</th>\n",
       "      <td>0</td>\n",
       "      <td>NON</td>\n",
       "      <td>19</td>\n",
       "      <td>2017-09-01 00:01:16</td>\n",
       "      <td>2017-09-01 00:01:16</td>\n",
       "      <td>accueil</td>\n",
       "      <td>Liens Sponsorisés</td>\n",
       "      <td>Ordinateur</td>\n",
       "      <td>NaN</td>\n",
       "      <td>1</td>\n",
       "    </tr>\n",
       "    <tr>\n",
       "      <th>9</th>\n",
       "      <td>0</td>\n",
       "      <td>NON</td>\n",
       "      <td>19</td>\n",
       "      <td>2017-09-01 00:01:16</td>\n",
       "      <td>2017-09-01 00:02:30</td>\n",
       "      <td>accueil</td>\n",
       "      <td>Liens Sponsorisés</td>\n",
       "      <td>Ordinateur</td>\n",
       "      <td>NaN</td>\n",
       "      <td>1</td>\n",
       "    </tr>\n",
       "  </tbody>\n",
       "</table>\n",
       "</div>"
      ],
      "text/plain": [
       "   VISITOR_ID CONNECTED_SESSION  ID_SESSION   SESSION_START_DATE  \\\n",
       "0      433347               OUI           3  2017-09-01 00:00:12   \n",
       "1      433347               OUI           3  2017-09-01 00:00:12   \n",
       "2      433347               OUI           3  2017-09-01 00:00:12   \n",
       "3      433347               OUI           3  2017-09-01 00:00:12   \n",
       "4      433347               OUI           3  2017-09-01 00:00:12   \n",
       "5      433347               OUI           3  2017-09-01 00:00:12   \n",
       "6      628575               OUI          17  2017-09-01 00:01:16   \n",
       "7      628575               OUI          17  2017-09-01 00:01:16   \n",
       "8           0               NON          19  2017-09-01 00:01:16   \n",
       "9           0               NON          19  2017-09-01 00:01:16   \n",
       "\n",
       "            EVENT_DATE    PAGES     GLOBAL_SOURCES DEVICE_TYPE DEVICE_MODEL  \\\n",
       "0  2017-09-01 00:00:12  accueil    Email marketing  Ordinateur          NaN   \n",
       "1  2017-09-01 00:07:23  accueil    Email marketing  Ordinateur          NaN   \n",
       "2  2017-09-01 00:16:51  accueil    Email marketing  Ordinateur          NaN   \n",
       "3  2017-09-01 00:19:24  accueil    Email marketing  Ordinateur          NaN   \n",
       "4  2017-09-01 00:21:12  accueil    Email marketing  Ordinateur          NaN   \n",
       "5  2017-09-01 00:24:19  accueil    Email marketing  Ordinateur          NaN   \n",
       "6  2017-09-01 00:28:05  accueil       Accès Direct  Ordinateur          NaN   \n",
       "7  2017-09-01 00:46:21  accueil       Accès Direct  Ordinateur          NaN   \n",
       "8  2017-09-01 00:01:16  accueil  Liens Sponsorisés  Ordinateur          NaN   \n",
       "9  2017-09-01 00:02:30  accueil  Liens Sponsorisés  Ordinateur          NaN   \n",
       "\n",
       "   LOADINGS  \n",
       "0         1  \n",
       "1         1  \n",
       "2         1  \n",
       "3         1  \n",
       "4         1  \n",
       "5         1  \n",
       "6         1  \n",
       "7         1  \n",
       "8         1  \n",
       "9         1  "
      ]
     },
     "execution_count": 244,
     "metadata": {},
     "output_type": "execute_result"
    }
   ],
   "source": [
    "data_201709.head(10)"
   ]
  },
  {
   "cell_type": "code",
   "execution_count": 247,
   "metadata": {},
   "outputs": [],
   "source": [
    "id_sesh_1709 = list(set(data_201709.ID_SESSION))"
   ]
  },
  {
   "cell_type": "code",
   "execution_count": 255,
   "metadata": {},
   "outputs": [],
   "source": [
    "data_201709 = data_201709.reset_index(drop = True)"
   ]
  },
  {
   "cell_type": "code",
   "execution_count": 260,
   "metadata": {},
   "outputs": [],
   "source": [
    "data_201709.index = [str(data_201709.ID_SESSION[i]) + str(data_201709.SESSION_START_DATE[i])[:10] for i in range(len(data_201709))]"
   ]
  },
  {
   "cell_type": "code",
   "execution_count": 264,
   "metadata": {
    "collapsed": true
   },
   "outputs": [
    {
     "data": {
      "text/html": [
       "<div>\n",
       "<style scoped>\n",
       "    .dataframe tbody tr th:only-of-type {\n",
       "        vertical-align: middle;\n",
       "    }\n",
       "\n",
       "    .dataframe tbody tr th {\n",
       "        vertical-align: top;\n",
       "    }\n",
       "\n",
       "    .dataframe thead th {\n",
       "        text-align: right;\n",
       "    }\n",
       "</style>\n",
       "<table border=\"1\" class=\"dataframe\">\n",
       "  <thead>\n",
       "    <tr style=\"text-align: right;\">\n",
       "      <th></th>\n",
       "      <th>VISITOR_ID</th>\n",
       "      <th>CONNECTED_SESSION</th>\n",
       "      <th>ID_SESSION</th>\n",
       "      <th>SESSION_START_DATE</th>\n",
       "      <th>EVENT_DATE</th>\n",
       "      <th>PAGES</th>\n",
       "      <th>GLOBAL_SOURCES</th>\n",
       "      <th>DEVICE_TYPE</th>\n",
       "      <th>DEVICE_MODEL</th>\n",
       "      <th>LOADINGS</th>\n",
       "    </tr>\n",
       "  </thead>\n",
       "  <tbody>\n",
       "    <tr>\n",
       "      <th>32017-09-01</th>\n",
       "      <td>433347</td>\n",
       "      <td>OUI</td>\n",
       "      <td>3</td>\n",
       "      <td>2017-09-01 00:00:12</td>\n",
       "      <td>2017-09-01 00:00:12</td>\n",
       "      <td>accueil</td>\n",
       "      <td>Email marketing</td>\n",
       "      <td>Ordinateur</td>\n",
       "      <td>NaN</td>\n",
       "      <td>1</td>\n",
       "    </tr>\n",
       "    <tr>\n",
       "      <th>32017-09-01</th>\n",
       "      <td>433347</td>\n",
       "      <td>OUI</td>\n",
       "      <td>3</td>\n",
       "      <td>2017-09-01 00:00:12</td>\n",
       "      <td>2017-09-01 00:07:23</td>\n",
       "      <td>accueil</td>\n",
       "      <td>Email marketing</td>\n",
       "      <td>Ordinateur</td>\n",
       "      <td>NaN</td>\n",
       "      <td>1</td>\n",
       "    </tr>\n",
       "    <tr>\n",
       "      <th>32017-09-01</th>\n",
       "      <td>433347</td>\n",
       "      <td>OUI</td>\n",
       "      <td>3</td>\n",
       "      <td>2017-09-01 00:00:12</td>\n",
       "      <td>2017-09-01 00:16:51</td>\n",
       "      <td>accueil</td>\n",
       "      <td>Email marketing</td>\n",
       "      <td>Ordinateur</td>\n",
       "      <td>NaN</td>\n",
       "      <td>1</td>\n",
       "    </tr>\n",
       "    <tr>\n",
       "      <th>32017-09-01</th>\n",
       "      <td>433347</td>\n",
       "      <td>OUI</td>\n",
       "      <td>3</td>\n",
       "      <td>2017-09-01 00:00:12</td>\n",
       "      <td>2017-09-01 00:19:24</td>\n",
       "      <td>accueil</td>\n",
       "      <td>Email marketing</td>\n",
       "      <td>Ordinateur</td>\n",
       "      <td>NaN</td>\n",
       "      <td>1</td>\n",
       "    </tr>\n",
       "    <tr>\n",
       "      <th>32017-09-01</th>\n",
       "      <td>433347</td>\n",
       "      <td>OUI</td>\n",
       "      <td>3</td>\n",
       "      <td>2017-09-01 00:00:12</td>\n",
       "      <td>2017-09-01 00:21:12</td>\n",
       "      <td>accueil</td>\n",
       "      <td>Email marketing</td>\n",
       "      <td>Ordinateur</td>\n",
       "      <td>NaN</td>\n",
       "      <td>1</td>\n",
       "    </tr>\n",
       "    <tr>\n",
       "      <th>32017-09-01</th>\n",
       "      <td>433347</td>\n",
       "      <td>OUI</td>\n",
       "      <td>3</td>\n",
       "      <td>2017-09-01 00:00:12</td>\n",
       "      <td>2017-09-01 00:24:19</td>\n",
       "      <td>accueil</td>\n",
       "      <td>Email marketing</td>\n",
       "      <td>Ordinateur</td>\n",
       "      <td>NaN</td>\n",
       "      <td>1</td>\n",
       "    </tr>\n",
       "    <tr>\n",
       "      <th>32017-09-01</th>\n",
       "      <td>433347</td>\n",
       "      <td>OUI</td>\n",
       "      <td>3</td>\n",
       "      <td>2017-09-01 00:00:12</td>\n",
       "      <td>2017-09-01 00:09:23</td>\n",
       "      <td>category 17::fiche produit::713718043006883218</td>\n",
       "      <td>Email marketing</td>\n",
       "      <td>Ordinateur</td>\n",
       "      <td>NaN</td>\n",
       "      <td>1</td>\n",
       "    </tr>\n",
       "    <tr>\n",
       "      <th>32017-09-01</th>\n",
       "      <td>433347</td>\n",
       "      <td>OUI</td>\n",
       "      <td>3</td>\n",
       "      <td>2017-09-01 00:00:12</td>\n",
       "      <td>2017-09-01 00:10:05</td>\n",
       "      <td>ajout au panier</td>\n",
       "      <td>Email marketing</td>\n",
       "      <td>Ordinateur</td>\n",
       "      <td>NaN</td>\n",
       "      <td>1</td>\n",
       "    </tr>\n",
       "    <tr>\n",
       "      <th>32017-09-01</th>\n",
       "      <td>433347</td>\n",
       "      <td>OUI</td>\n",
       "      <td>3</td>\n",
       "      <td>2017-09-01 00:00:12</td>\n",
       "      <td>2017-09-01 00:12:02</td>\n",
       "      <td>ajout au panier</td>\n",
       "      <td>Email marketing</td>\n",
       "      <td>Ordinateur</td>\n",
       "      <td>NaN</td>\n",
       "      <td>1</td>\n",
       "    </tr>\n",
       "    <tr>\n",
       "      <th>32017-09-01</th>\n",
       "      <td>433347</td>\n",
       "      <td>OUI</td>\n",
       "      <td>3</td>\n",
       "      <td>2017-09-01 00:00:12</td>\n",
       "      <td>2017-09-01 00:13:23</td>\n",
       "      <td>ajout au panier</td>\n",
       "      <td>Email marketing</td>\n",
       "      <td>Ordinateur</td>\n",
       "      <td>NaN</td>\n",
       "      <td>1</td>\n",
       "    </tr>\n",
       "    <tr>\n",
       "      <th>32017-09-01</th>\n",
       "      <td>433347</td>\n",
       "      <td>OUI</td>\n",
       "      <td>3</td>\n",
       "      <td>2017-09-01 00:00:12</td>\n",
       "      <td>2017-09-01 00:12:06</td>\n",
       "      <td>mon panier</td>\n",
       "      <td>Email marketing</td>\n",
       "      <td>Ordinateur</td>\n",
       "      <td>NaN</td>\n",
       "      <td>1</td>\n",
       "    </tr>\n",
       "    <tr>\n",
       "      <th>32017-09-01</th>\n",
       "      <td>433347</td>\n",
       "      <td>OUI</td>\n",
       "      <td>3</td>\n",
       "      <td>2017-09-01 00:00:12</td>\n",
       "      <td>2017-09-01 00:13:30</td>\n",
       "      <td>mon panier</td>\n",
       "      <td>Email marketing</td>\n",
       "      <td>Ordinateur</td>\n",
       "      <td>NaN</td>\n",
       "      <td>1</td>\n",
       "    </tr>\n",
       "    <tr>\n",
       "      <th>32017-09-01</th>\n",
       "      <td>433347</td>\n",
       "      <td>OUI</td>\n",
       "      <td>3</td>\n",
       "      <td>2017-09-01 00:00:12</td>\n",
       "      <td>2017-09-01 00:16:59</td>\n",
       "      <td>mon panier</td>\n",
       "      <td>Email marketing</td>\n",
       "      <td>Ordinateur</td>\n",
       "      <td>NaN</td>\n",
       "      <td>1</td>\n",
       "    </tr>\n",
       "    <tr>\n",
       "      <th>32017-09-01</th>\n",
       "      <td>433347</td>\n",
       "      <td>OUI</td>\n",
       "      <td>3</td>\n",
       "      <td>2017-09-01 00:00:12</td>\n",
       "      <td>2017-09-01 00:19:39</td>\n",
       "      <td>mon panier</td>\n",
       "      <td>Email marketing</td>\n",
       "      <td>Ordinateur</td>\n",
       "      <td>NaN</td>\n",
       "      <td>1</td>\n",
       "    </tr>\n",
       "    <tr>\n",
       "      <th>32017-09-01</th>\n",
       "      <td>433347</td>\n",
       "      <td>OUI</td>\n",
       "      <td>3</td>\n",
       "      <td>2017-09-01 00:00:12</td>\n",
       "      <td>2017-09-01 00:21:17</td>\n",
       "      <td>mon panier</td>\n",
       "      <td>Email marketing</td>\n",
       "      <td>Ordinateur</td>\n",
       "      <td>NaN</td>\n",
       "      <td>1</td>\n",
       "    </tr>\n",
       "    <tr>\n",
       "      <th>32017-09-01</th>\n",
       "      <td>433347</td>\n",
       "      <td>OUI</td>\n",
       "      <td>3</td>\n",
       "      <td>2017-09-01 00:00:12</td>\n",
       "      <td>2017-09-01 00:22:39</td>\n",
       "      <td>mon panier</td>\n",
       "      <td>Email marketing</td>\n",
       "      <td>Ordinateur</td>\n",
       "      <td>NaN</td>\n",
       "      <td>1</td>\n",
       "    </tr>\n",
       "    <tr>\n",
       "      <th>32017-09-01</th>\n",
       "      <td>433347</td>\n",
       "      <td>OUI</td>\n",
       "      <td>3</td>\n",
       "      <td>2017-09-01 00:00:12</td>\n",
       "      <td>2017-09-01 00:23:33</td>\n",
       "      <td>mon panier</td>\n",
       "      <td>Email marketing</td>\n",
       "      <td>Ordinateur</td>\n",
       "      <td>NaN</td>\n",
       "      <td>1</td>\n",
       "    </tr>\n",
       "    <tr>\n",
       "      <th>32017-09-01</th>\n",
       "      <td>433347</td>\n",
       "      <td>OUI</td>\n",
       "      <td>3</td>\n",
       "      <td>2017-09-01 00:00:12</td>\n",
       "      <td>2017-09-01 00:24:23</td>\n",
       "      <td>mon panier</td>\n",
       "      <td>Email marketing</td>\n",
       "      <td>Ordinateur</td>\n",
       "      <td>NaN</td>\n",
       "      <td>1</td>\n",
       "    </tr>\n",
       "    <tr>\n",
       "      <th>32017-09-01</th>\n",
       "      <td>433347</td>\n",
       "      <td>OUI</td>\n",
       "      <td>3</td>\n",
       "      <td>2017-09-01 00:00:12</td>\n",
       "      <td>2017-09-01 00:25:07</td>\n",
       "      <td>mon panier</td>\n",
       "      <td>Email marketing</td>\n",
       "      <td>Ordinateur</td>\n",
       "      <td>NaN</td>\n",
       "      <td>1</td>\n",
       "    </tr>\n",
       "    <tr>\n",
       "      <th>32017-09-01</th>\n",
       "      <td>433347</td>\n",
       "      <td>OUI</td>\n",
       "      <td>3</td>\n",
       "      <td>2017-09-01 00:00:12</td>\n",
       "      <td>2017-09-01 00:14:54</td>\n",
       "      <td>category 13::category 13 enduites::fiche produ...</td>\n",
       "      <td>Email marketing</td>\n",
       "      <td>Ordinateur</td>\n",
       "      <td>NaN</td>\n",
       "      <td>1</td>\n",
       "    </tr>\n",
       "    <tr>\n",
       "      <th>32017-09-01</th>\n",
       "      <td>433347</td>\n",
       "      <td>OUI</td>\n",
       "      <td>3</td>\n",
       "      <td>2017-09-01 00:00:12</td>\n",
       "      <td>2017-09-01 00:17:25</td>\n",
       "      <td>header::mon offre courrier::pop up erreur char...</td>\n",
       "      <td>Email marketing</td>\n",
       "      <td>Ordinateur</td>\n",
       "      <td>NaN</td>\n",
       "      <td>1</td>\n",
       "    </tr>\n",
       "    <tr>\n",
       "      <th>32017-09-01</th>\n",
       "      <td>433347</td>\n",
       "      <td>OUI</td>\n",
       "      <td>3</td>\n",
       "      <td>2017-09-01 00:00:12</td>\n",
       "      <td>2017-09-01 00:21:50</td>\n",
       "      <td>header::mon offre courrier::pop up erreur char...</td>\n",
       "      <td>Email marketing</td>\n",
       "      <td>Ordinateur</td>\n",
       "      <td>NaN</td>\n",
       "      <td>1</td>\n",
       "    </tr>\n",
       "    <tr>\n",
       "      <th>32017-09-01</th>\n",
       "      <td>433347</td>\n",
       "      <td>OUI</td>\n",
       "      <td>3</td>\n",
       "      <td>2017-09-01 00:00:12</td>\n",
       "      <td>2017-09-01 00:26:15</td>\n",
       "      <td>mes informations</td>\n",
       "      <td>Email marketing</td>\n",
       "      <td>Ordinateur</td>\n",
       "      <td>NaN</td>\n",
       "      <td>1</td>\n",
       "    </tr>\n",
       "    <tr>\n",
       "      <th>32017-09-01</th>\n",
       "      <td>433347</td>\n",
       "      <td>OUI</td>\n",
       "      <td>3</td>\n",
       "      <td>2017-09-01 00:00:12</td>\n",
       "      <td>2017-09-01 00:27:18</td>\n",
       "      <td>ma livraison</td>\n",
       "      <td>Email marketing</td>\n",
       "      <td>Ordinateur</td>\n",
       "      <td>NaN</td>\n",
       "      <td>1</td>\n",
       "    </tr>\n",
       "    <tr>\n",
       "      <th>32017-09-01</th>\n",
       "      <td>433347</td>\n",
       "      <td>OUI</td>\n",
       "      <td>3</td>\n",
       "      <td>2017-09-01 00:00:12</td>\n",
       "      <td>2017-09-01 00:30:43</td>\n",
       "      <td>ma livraison</td>\n",
       "      <td>Email marketing</td>\n",
       "      <td>Ordinateur</td>\n",
       "      <td>NaN</td>\n",
       "      <td>1</td>\n",
       "    </tr>\n",
       "    <tr>\n",
       "      <th>32017-09-01</th>\n",
       "      <td>433347</td>\n",
       "      <td>OUI</td>\n",
       "      <td>3</td>\n",
       "      <td>2017-09-01 00:00:12</td>\n",
       "      <td>2017-09-01 00:31:23</td>\n",
       "      <td>www..com/fr/commander/recapitulatif.htm</td>\n",
       "      <td>Email marketing</td>\n",
       "      <td>Ordinateur</td>\n",
       "      <td>NaN</td>\n",
       "      <td>1</td>\n",
       "    </tr>\n",
       "    <tr>\n",
       "      <th>32017-09-01</th>\n",
       "      <td>433347</td>\n",
       "      <td>OUI</td>\n",
       "      <td>3</td>\n",
       "      <td>2017-09-01 00:00:12</td>\n",
       "      <td>2017-09-01 00:32:05</td>\n",
       "      <td>mon paiement</td>\n",
       "      <td>Email marketing</td>\n",
       "      <td>Ordinateur</td>\n",
       "      <td>NaN</td>\n",
       "      <td>1</td>\n",
       "    </tr>\n",
       "    <tr>\n",
       "      <th>32017-09-01</th>\n",
       "      <td>433347</td>\n",
       "      <td>OUI</td>\n",
       "      <td>3</td>\n",
       "      <td>2017-09-01 00:00:12</td>\n",
       "      <td>2017-09-01 00:33:25</td>\n",
       "      <td>confirmation d achat cb</td>\n",
       "      <td>Email marketing</td>\n",
       "      <td>Ordinateur</td>\n",
       "      <td>NaN</td>\n",
       "      <td>1</td>\n",
       "    </tr>\n",
       "  </tbody>\n",
       "</table>\n",
       "</div>"
      ],
      "text/plain": [
       "             VISITOR_ID CONNECTED_SESSION  ID_SESSION   SESSION_START_DATE  \\\n",
       "32017-09-01      433347               OUI           3  2017-09-01 00:00:12   \n",
       "32017-09-01      433347               OUI           3  2017-09-01 00:00:12   \n",
       "32017-09-01      433347               OUI           3  2017-09-01 00:00:12   \n",
       "32017-09-01      433347               OUI           3  2017-09-01 00:00:12   \n",
       "32017-09-01      433347               OUI           3  2017-09-01 00:00:12   \n",
       "32017-09-01      433347               OUI           3  2017-09-01 00:00:12   \n",
       "32017-09-01      433347               OUI           3  2017-09-01 00:00:12   \n",
       "32017-09-01      433347               OUI           3  2017-09-01 00:00:12   \n",
       "32017-09-01      433347               OUI           3  2017-09-01 00:00:12   \n",
       "32017-09-01      433347               OUI           3  2017-09-01 00:00:12   \n",
       "32017-09-01      433347               OUI           3  2017-09-01 00:00:12   \n",
       "32017-09-01      433347               OUI           3  2017-09-01 00:00:12   \n",
       "32017-09-01      433347               OUI           3  2017-09-01 00:00:12   \n",
       "32017-09-01      433347               OUI           3  2017-09-01 00:00:12   \n",
       "32017-09-01      433347               OUI           3  2017-09-01 00:00:12   \n",
       "32017-09-01      433347               OUI           3  2017-09-01 00:00:12   \n",
       "32017-09-01      433347               OUI           3  2017-09-01 00:00:12   \n",
       "32017-09-01      433347               OUI           3  2017-09-01 00:00:12   \n",
       "32017-09-01      433347               OUI           3  2017-09-01 00:00:12   \n",
       "32017-09-01      433347               OUI           3  2017-09-01 00:00:12   \n",
       "32017-09-01      433347               OUI           3  2017-09-01 00:00:12   \n",
       "32017-09-01      433347               OUI           3  2017-09-01 00:00:12   \n",
       "32017-09-01      433347               OUI           3  2017-09-01 00:00:12   \n",
       "32017-09-01      433347               OUI           3  2017-09-01 00:00:12   \n",
       "32017-09-01      433347               OUI           3  2017-09-01 00:00:12   \n",
       "32017-09-01      433347               OUI           3  2017-09-01 00:00:12   \n",
       "32017-09-01      433347               OUI           3  2017-09-01 00:00:12   \n",
       "32017-09-01      433347               OUI           3  2017-09-01 00:00:12   \n",
       "\n",
       "                      EVENT_DATE  \\\n",
       "32017-09-01  2017-09-01 00:00:12   \n",
       "32017-09-01  2017-09-01 00:07:23   \n",
       "32017-09-01  2017-09-01 00:16:51   \n",
       "32017-09-01  2017-09-01 00:19:24   \n",
       "32017-09-01  2017-09-01 00:21:12   \n",
       "32017-09-01  2017-09-01 00:24:19   \n",
       "32017-09-01  2017-09-01 00:09:23   \n",
       "32017-09-01  2017-09-01 00:10:05   \n",
       "32017-09-01  2017-09-01 00:12:02   \n",
       "32017-09-01  2017-09-01 00:13:23   \n",
       "32017-09-01  2017-09-01 00:12:06   \n",
       "32017-09-01  2017-09-01 00:13:30   \n",
       "32017-09-01  2017-09-01 00:16:59   \n",
       "32017-09-01  2017-09-01 00:19:39   \n",
       "32017-09-01  2017-09-01 00:21:17   \n",
       "32017-09-01  2017-09-01 00:22:39   \n",
       "32017-09-01  2017-09-01 00:23:33   \n",
       "32017-09-01  2017-09-01 00:24:23   \n",
       "32017-09-01  2017-09-01 00:25:07   \n",
       "32017-09-01  2017-09-01 00:14:54   \n",
       "32017-09-01  2017-09-01 00:17:25   \n",
       "32017-09-01  2017-09-01 00:21:50   \n",
       "32017-09-01  2017-09-01 00:26:15   \n",
       "32017-09-01  2017-09-01 00:27:18   \n",
       "32017-09-01  2017-09-01 00:30:43   \n",
       "32017-09-01  2017-09-01 00:31:23   \n",
       "32017-09-01  2017-09-01 00:32:05   \n",
       "32017-09-01  2017-09-01 00:33:25   \n",
       "\n",
       "                                                         PAGES  \\\n",
       "32017-09-01                                            accueil   \n",
       "32017-09-01                                            accueil   \n",
       "32017-09-01                                            accueil   \n",
       "32017-09-01                                            accueil   \n",
       "32017-09-01                                            accueil   \n",
       "32017-09-01                                            accueil   \n",
       "32017-09-01     category 17::fiche produit::713718043006883218   \n",
       "32017-09-01                                    ajout au panier   \n",
       "32017-09-01                                    ajout au panier   \n",
       "32017-09-01                                    ajout au panier   \n",
       "32017-09-01                                         mon panier   \n",
       "32017-09-01                                         mon panier   \n",
       "32017-09-01                                         mon panier   \n",
       "32017-09-01                                         mon panier   \n",
       "32017-09-01                                         mon panier   \n",
       "32017-09-01                                         mon panier   \n",
       "32017-09-01                                         mon panier   \n",
       "32017-09-01                                         mon panier   \n",
       "32017-09-01                                         mon panier   \n",
       "32017-09-01  category 13::category 13 enduites::fiche produ...   \n",
       "32017-09-01  header::mon offre courrier::pop up erreur char...   \n",
       "32017-09-01  header::mon offre courrier::pop up erreur char...   \n",
       "32017-09-01                                   mes informations   \n",
       "32017-09-01                                       ma livraison   \n",
       "32017-09-01                                       ma livraison   \n",
       "32017-09-01            www..com/fr/commander/recapitulatif.htm   \n",
       "32017-09-01                                       mon paiement   \n",
       "32017-09-01                            confirmation d achat cb   \n",
       "\n",
       "              GLOBAL_SOURCES DEVICE_TYPE DEVICE_MODEL  LOADINGS  \n",
       "32017-09-01  Email marketing  Ordinateur          NaN         1  \n",
       "32017-09-01  Email marketing  Ordinateur          NaN         1  \n",
       "32017-09-01  Email marketing  Ordinateur          NaN         1  \n",
       "32017-09-01  Email marketing  Ordinateur          NaN         1  \n",
       "32017-09-01  Email marketing  Ordinateur          NaN         1  \n",
       "32017-09-01  Email marketing  Ordinateur          NaN         1  \n",
       "32017-09-01  Email marketing  Ordinateur          NaN         1  \n",
       "32017-09-01  Email marketing  Ordinateur          NaN         1  \n",
       "32017-09-01  Email marketing  Ordinateur          NaN         1  \n",
       "32017-09-01  Email marketing  Ordinateur          NaN         1  \n",
       "32017-09-01  Email marketing  Ordinateur          NaN         1  \n",
       "32017-09-01  Email marketing  Ordinateur          NaN         1  \n",
       "32017-09-01  Email marketing  Ordinateur          NaN         1  \n",
       "32017-09-01  Email marketing  Ordinateur          NaN         1  \n",
       "32017-09-01  Email marketing  Ordinateur          NaN         1  \n",
       "32017-09-01  Email marketing  Ordinateur          NaN         1  \n",
       "32017-09-01  Email marketing  Ordinateur          NaN         1  \n",
       "32017-09-01  Email marketing  Ordinateur          NaN         1  \n",
       "32017-09-01  Email marketing  Ordinateur          NaN         1  \n",
       "32017-09-01  Email marketing  Ordinateur          NaN         1  \n",
       "32017-09-01  Email marketing  Ordinateur          NaN         1  \n",
       "32017-09-01  Email marketing  Ordinateur          NaN         1  \n",
       "32017-09-01  Email marketing  Ordinateur          NaN         1  \n",
       "32017-09-01  Email marketing  Ordinateur          NaN         1  \n",
       "32017-09-01  Email marketing  Ordinateur          NaN         1  \n",
       "32017-09-01  Email marketing  Ordinateur          NaN         1  \n",
       "32017-09-01  Email marketing  Ordinateur          NaN         1  \n",
       "32017-09-01  Email marketing  Ordinateur          NaN         1  "
      ]
     },
     "execution_count": 264,
     "metadata": {},
     "output_type": "execute_result"
    }
   ],
   "source": [
    "data_201709.loc['32017-09-01', :]"
   ]
  },
  {
   "cell_type": "code",
   "execution_count": 266,
   "metadata": {},
   "outputs": [],
   "source": [
    "unique_sessions = set(data_201709.index)\n",
    "fields = data_201709.columns"
   ]
  },
  {
   "cell_type": "code",
   "execution_count": null,
   "metadata": {},
   "outputs": [],
   "source": [
    "def return_dict_for_compression(unique_session_id):\n",
    "    subdf = data_201709.loc[unique_session_id]\n",
    "    "
   ]
  },
  {
   "cell_type": "code",
   "execution_count": 280,
   "metadata": {},
   "outputs": [
    {
     "data": {
      "text/plain": [
       "'2017-09-01 00:00:12'"
      ]
     },
     "execution_count": 280,
     "metadata": {},
     "output_type": "execute_result"
    }
   ],
   "source": [
    "data_201709.SESSION_START_DATE[0]"
   ]
  },
  {
   "cell_type": "code",
   "execution_count": 286,
   "metadata": {},
   "outputs": [
    {
     "ename": "ValueError",
     "evalue": "'h' is a bad directive in format '%y-%m-%d %h:%m:%sz'",
     "output_type": "error",
     "traceback": [
      "\u001b[0;31m---------------------------------------------------------------------------\u001b[0m",
      "\u001b[0;31mValueError\u001b[0m                                Traceback (most recent call last)",
      "\u001b[0;32m<ipython-input-286-406e64e461b1>\u001b[0m in \u001b[0;36m<module>\u001b[0;34m()\u001b[0m\n\u001b[0;32m----> 1\u001b[0;31m \u001b[0mdatetime\u001b[0m\u001b[0;34m.\u001b[0m\u001b[0mstrptime\u001b[0m\u001b[0;34m(\u001b[0m\u001b[0mdata_201709\u001b[0m\u001b[0;34m.\u001b[0m\u001b[0mSESSION_START_DATE\u001b[0m\u001b[0;34m[\u001b[0m\u001b[0;36m0\u001b[0m\u001b[0;34m]\u001b[0m\u001b[0;34m,\u001b[0m \u001b[0;34m'%y-%m-%d %h:%m:%sz'\u001b[0m\u001b[0;34m)\u001b[0m\u001b[0;34m\u001b[0m\u001b[0m\n\u001b[0m",
      "\u001b[0;32m~/anaconda3/lib/python3.6/_strptime.py\u001b[0m in \u001b[0;36m_strptime_datetime\u001b[0;34m(cls, data_string, format)\u001b[0m\n\u001b[1;32m    563\u001b[0m     \"\"\"Return a class cls instance based on the input string and the\n\u001b[1;32m    564\u001b[0m     format string.\"\"\"\n\u001b[0;32m--> 565\u001b[0;31m     \u001b[0mtt\u001b[0m\u001b[0;34m,\u001b[0m \u001b[0mfraction\u001b[0m \u001b[0;34m=\u001b[0m \u001b[0m_strptime\u001b[0m\u001b[0;34m(\u001b[0m\u001b[0mdata_string\u001b[0m\u001b[0;34m,\u001b[0m \u001b[0mformat\u001b[0m\u001b[0;34m)\u001b[0m\u001b[0;34m\u001b[0m\u001b[0m\n\u001b[0m\u001b[1;32m    566\u001b[0m     \u001b[0mtzname\u001b[0m\u001b[0;34m,\u001b[0m \u001b[0mgmtoff\u001b[0m \u001b[0;34m=\u001b[0m \u001b[0mtt\u001b[0m\u001b[0;34m[\u001b[0m\u001b[0;34m-\u001b[0m\u001b[0;36m2\u001b[0m\u001b[0;34m:\u001b[0m\u001b[0;34m]\u001b[0m\u001b[0;34m\u001b[0m\u001b[0m\n\u001b[1;32m    567\u001b[0m     \u001b[0margs\u001b[0m \u001b[0;34m=\u001b[0m \u001b[0mtt\u001b[0m\u001b[0;34m[\u001b[0m\u001b[0;34m:\u001b[0m\u001b[0;36m6\u001b[0m\u001b[0;34m]\u001b[0m \u001b[0;34m+\u001b[0m \u001b[0;34m(\u001b[0m\u001b[0mfraction\u001b[0m\u001b[0;34m,\u001b[0m\u001b[0;34m)\u001b[0m\u001b[0;34m\u001b[0m\u001b[0m\n",
      "\u001b[0;32m~/anaconda3/lib/python3.6/_strptime.py\u001b[0m in \u001b[0;36m_strptime\u001b[0;34m(data_string, format)\u001b[0m\n\u001b[1;32m    352\u001b[0m                 \u001b[0;32mdel\u001b[0m \u001b[0merr\u001b[0m\u001b[0;34m\u001b[0m\u001b[0m\n\u001b[1;32m    353\u001b[0m                 raise ValueError(\"'%s' is a bad directive in format '%s'\" %\n\u001b[0;32m--> 354\u001b[0;31m                                     (bad_directive, format)) from None\n\u001b[0m\u001b[1;32m    355\u001b[0m             \u001b[0;31m# IndexError only occurs when the format string is \"%\"\u001b[0m\u001b[0;34m\u001b[0m\u001b[0;34m\u001b[0m\u001b[0m\n\u001b[1;32m    356\u001b[0m             \u001b[0;32mexcept\u001b[0m \u001b[0mIndexError\u001b[0m\u001b[0;34m:\u001b[0m\u001b[0;34m\u001b[0m\u001b[0m\n",
      "\u001b[0;31mValueError\u001b[0m: 'h' is a bad directive in format '%y-%m-%d %h:%m:%sz'"
     ]
    }
   ],
   "source": [
    "datetime.strptime(data_201709.SESSION_START_DATE[0], '%y-%m-%d %h:%m:%sz')"
   ]
  },
  {
   "cell_type": "code",
   "execution_count": 274,
   "metadata": {},
   "outputs": [
    {
     "data": {
      "text/plain": [
       "'2017-09-01 00:00:12'"
      ]
     },
     "execution_count": 274,
     "metadata": {},
     "output_type": "execute_result"
    }
   ],
   "source": [
    "data_201709.SESSION_START_DATE[0]"
   ]
  },
  {
   "cell_type": "code",
   "execution_count": null,
   "metadata": {},
   "outputs": [],
   "source": []
  }
 ],
 "metadata": {
  "kernelspec": {
   "display_name": "Python 3",
   "language": "python",
   "name": "python3"
  },
  "language_info": {
   "codemirror_mode": {
    "name": "ipython",
    "version": 3
   },
   "file_extension": ".py",
   "mimetype": "text/x-python",
   "name": "python",
   "nbconvert_exporter": "python",
   "pygments_lexer": "ipython3",
   "version": "3.6.4"
  }
 },
 "nbformat": 4,
 "nbformat_minor": 2
}
