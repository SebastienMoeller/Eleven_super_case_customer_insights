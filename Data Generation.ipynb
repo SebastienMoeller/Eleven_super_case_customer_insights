{
 "cells": [
  {
   "cell_type": "code",
   "execution_count": 1,
   "metadata": {},
   "outputs": [],
   "source": [
    "# Importing libraries\n",
    "import pandas as pd\n",
    "from os import listdir\n",
    "from os.path import isfile, join\n",
    "from multiprocessing import Pool\n",
    "from tqdm import tqdm\n",
    "import pickle\n",
    "from datetime import datetime\n",
    "from datetime import timedelta\n",
    "import numpy as np\n",
    "from matplotlib import pyplot as plt\n",
    "from collections import Counter\n",
    "from datetime import datetime\n",
    "\n",
    "# Reading the data\n",
    "data_path = 'Data/'\n",
    "log = pd.read_csv(data_path + 'LOG_WEB_201708.csv', sep=';')\n",
    "clients = pd.read_csv(data_path + 'clients.csv', sep = ';')\n",
    "cmd = pd.read_csv(data_path + 'CMD.csv', sep = ';')\n",
    "cmd = cmd[(cmd['ORDER_DATE'] >= '2017-08-01') & (cmd['ORDER_DATE'] < '2017-09-01')]\n",
    "table = pd.read_csv(data_path + 'TABLE_CONVERSION.csv', sep = ';')\n",
    "\n",
    "# Remove unamed column\n",
    "log = log.loc[:, ~log.columns.str.contains('^Unnamed')]\n",
    "clients = clients.loc[:, ~clients.columns.str.contains('^Unnamed')]\n",
    "cmd = cmd.loc[:, ~cmd.columns.str.contains('^Unnamed')]\n",
    "table = table.loc[:, ~table.columns.str.contains('^Unnamed')]\n",
    "\n",
    "# Adjust data types - wrong types were causing issues\n",
    "clients.CLIENT_NUMBER = [str(clients) for clients in clients.CLIENT_NUMBER]\n",
    "cmd.CLIENT_NUMBER = [str(cmd) for cmd in cmd.CLIENT_NUMBER]\n",
    "table.CLIENT_NUMBER = [str(table) for table in table.CLIENT_NUMBER]\n",
    "table.VISITOR_ID = [str(table) for table in table.VISITOR_ID]\n",
    "log.VISITOR_ID = [str(log) for log in log.VISITOR_ID]\n",
    "\n",
    "# Only will look at orders so the log can be filtered already\n",
    "log = log[log.VISITOR_ID != '0']\n",
    "cmd = cmd.sort_values(['CLIENT_NUMBER'])\n",
    "cmd['COUNT'] = 1\n",
    "log = log.sort_values(['VISITOR_ID'])\n",
    "log['DATE'] = log.EVENT_DATE.str.slice(0,10)\n",
    "cmd = cmd.groupby(['CLIENT_NUMBER', 'ORDER_DATE', 'ORDER_CHANNEL']).sum().reset_index()\n",
    "cmd['PROMO'] = True\n",
    "cmd.loc[cmd['CVIC'] == 0, 'PROMO'] = False\n",
    "cmd['AVG_EXPENSE'] = cmd.PRE_TAX_AMOUNT / cmd.COUNT\n",
    "cmd = cmd[['CLIENT_NUMBER', 'ORDER_DATE', 'ORDER_CHANNEL', 'PROMO', 'AVG_EXPENSE', 'COUNT']]\n",
    "cmd = cmd[cmd.ORDER_CHANNEL == 'Internet']\n",
    "data = pd.merge(log, table, left_on='VISITOR_ID', right_on='VISITOR_ID', how='left')\n",
    "data = pd.merge(data, cmd, left_on=['CLIENT_NUMBER', 'DATE'], right_on=['CLIENT_NUMBER', 'ORDER_DATE'], how='inner')\n",
    "data = data.sort_values(['EVENT_DATE'])\n",
    "\n",
    "data['MINUTES_ONLINE'] = '1'\n",
    "data['UNIQUE_PAGES'] = 1\n",
    "\n",
    "def feature_calc(data):\n",
    "    data = data.astype('object')\n",
    "    counterA = []\n",
    "    for date in data.DATE.unique():\n",
    "        counterA.append(date)\n",
    "        print(len(counterA)/len(data.DATE.unique()))\n",
    "        for session in data[data.DATE == date].ID_SESSION.unique():\n",
    "            # Unique Pages\n",
    "            data.loc[(data['ID_SESSION'] == session) & (data['DATE'] == date), 'UNIQUE_PAGES'] = len(data.loc[(data['ID_SESSION'] == session) & (data['DATE'] == date), 'PAGES'].unique())\n",
    "            # Minutes Online\n",
    "            l = data.loc[(data['ID_SESSION'] == session) & (data['DATE'] == date), 'EVENT_DATE']\n",
    "            mini = datetime.strptime(l.min(), '%Y-%m-%d %H:%M:%S')\n",
    "            maxi = datetime.strptime(l.max(), '%Y-%m-%d %H:%M:%S')\n",
    "            minutes = (maxi-mini).total_seconds()/60\n",
    "            data.loc[(data['ID_SESSION'] == session) & (data['DATE'] == date), 'MINUTES_ONLINE'] = minutes\n",
    "            # GLOBAL SOURCES AGGREGATION\n",
    "            #smp = str()\n",
    "            #tmp = sorted(data.loc[(data.ID_SESSION == session) & (data.DATE == date), 'GLOBAL_SOURCES'].unique())\n",
    "            #for i in tmp:\n",
    "            #    smp += ' / ' + i\n",
    "            ##print(smp)\n",
    "            #data.loc[(data.ID_SESSION == session) & (data.DATE == date), 'GLOBAL_SOURCES'] = smp\n",
    "    return(data)\n",
    "\n",
    "#data = feature_calc(data)\n",
    "data.to_csv('order_backup.csv')"
   ]
  },
  {
   "cell_type": "code",
   "execution_count": 2,
   "metadata": {},
   "outputs": [
    {
     "data": {
      "text/html": [
       "<div>\n",
       "<style scoped>\n",
       "    .dataframe tbody tr th:only-of-type {\n",
       "        vertical-align: middle;\n",
       "    }\n",
       "\n",
       "    .dataframe tbody tr th {\n",
       "        vertical-align: top;\n",
       "    }\n",
       "\n",
       "    .dataframe thead th {\n",
       "        text-align: right;\n",
       "    }\n",
       "</style>\n",
       "<table border=\"1\" class=\"dataframe\">\n",
       "  <thead>\n",
       "    <tr style=\"text-align: right;\">\n",
       "      <th></th>\n",
       "      <th>VISITOR_ID</th>\n",
       "      <th>CONNECTED_SESSION</th>\n",
       "      <th>ID_SESSION</th>\n",
       "      <th>SESSION_START_DATE</th>\n",
       "      <th>EVENT_DATE</th>\n",
       "      <th>PAGES</th>\n",
       "      <th>GLOBAL_SOURCES</th>\n",
       "      <th>DEVICE_TYPE</th>\n",
       "      <th>DEVICE_MODEL</th>\n",
       "      <th>LOADINGS</th>\n",
       "      <th>DATE</th>\n",
       "      <th>CLIENT_NUMBER</th>\n",
       "      <th>ORDER_DATE</th>\n",
       "      <th>ORDER_CHANNEL</th>\n",
       "      <th>PROMO</th>\n",
       "      <th>AVG_EXPENSE</th>\n",
       "      <th>COUNT</th>\n",
       "    </tr>\n",
       "  </thead>\n",
       "  <tbody>\n",
       "    <tr>\n",
       "      <th>122380</th>\n",
       "      <td>706588</td>\n",
       "      <td>OUI</td>\n",
       "      <td>23</td>\n",
       "      <td>2017-08-08 00:01:29</td>\n",
       "      <td>2017-08-08 00:01:29</td>\n",
       "      <td>ajout au panier</td>\n",
       "      <td>Accès Direct</td>\n",
       "      <td>Ordinateur</td>\n",
       "      <td>NaN</td>\n",
       "      <td>1</td>\n",
       "      <td>2017-08-08</td>\n",
       "      <td>-7174350147193854740</td>\n",
       "      <td>2017-08-08</td>\n",
       "      <td>Internet</td>\n",
       "      <td>False</td>\n",
       "      <td>19.08</td>\n",
       "      <td>1</td>\n",
       "    </tr>\n",
       "    <tr>\n",
       "      <th>77723</th>\n",
       "      <td>544416</td>\n",
       "      <td>OUI</td>\n",
       "      <td>22</td>\n",
       "      <td>2017-08-08 00:01:29</td>\n",
       "      <td>2017-08-08 00:01:29</td>\n",
       "      <td>category 1::category 1 uni::fiche produit::-64...</td>\n",
       "      <td>Accès Direct</td>\n",
       "      <td>Ordinateur</td>\n",
       "      <td>NaN</td>\n",
       "      <td>1</td>\n",
       "      <td>2017-08-08</td>\n",
       "      <td>8969790064941805242</td>\n",
       "      <td>2017-08-08</td>\n",
       "      <td>Internet</td>\n",
       "      <td>False</td>\n",
       "      <td>33.41</td>\n",
       "      <td>1</td>\n",
       "    </tr>\n",
       "    <tr>\n",
       "      <th>122369</th>\n",
       "      <td>706588</td>\n",
       "      <td>OUI</td>\n",
       "      <td>23</td>\n",
       "      <td>2017-08-08 00:01:29</td>\n",
       "      <td>2017-08-08 00:01:32</td>\n",
       "      <td>accueil</td>\n",
       "      <td>Accès Direct</td>\n",
       "      <td>Ordinateur</td>\n",
       "      <td>NaN</td>\n",
       "      <td>1</td>\n",
       "      <td>2017-08-08</td>\n",
       "      <td>-7174350147193854740</td>\n",
       "      <td>2017-08-08</td>\n",
       "      <td>Internet</td>\n",
       "      <td>False</td>\n",
       "      <td>19.08</td>\n",
       "      <td>1</td>\n",
       "    </tr>\n",
       "    <tr>\n",
       "      <th>83621</th>\n",
       "      <td>563053</td>\n",
       "      <td>OUI</td>\n",
       "      <td>13</td>\n",
       "      <td>2017-08-08 00:01:32</td>\n",
       "      <td>2017-08-08 00:01:32</td>\n",
       "      <td>mon panier</td>\n",
       "      <td>Accès Direct</td>\n",
       "      <td>Ordinateur</td>\n",
       "      <td>NaN</td>\n",
       "      <td>1</td>\n",
       "      <td>2017-08-08</td>\n",
       "      <td>-5859629033836166974</td>\n",
       "      <td>2017-08-08</td>\n",
       "      <td>Internet</td>\n",
       "      <td>False</td>\n",
       "      <td>140.17</td>\n",
       "      <td>2</td>\n",
       "    </tr>\n",
       "    <tr>\n",
       "      <th>77717</th>\n",
       "      <td>544416</td>\n",
       "      <td>OUI</td>\n",
       "      <td>22</td>\n",
       "      <td>2017-08-08 00:01:29</td>\n",
       "      <td>2017-08-08 00:01:53</td>\n",
       "      <td>soldes</td>\n",
       "      <td>Accès Direct</td>\n",
       "      <td>Ordinateur</td>\n",
       "      <td>NaN</td>\n",
       "      <td>1</td>\n",
       "      <td>2017-08-08</td>\n",
       "      <td>8969790064941805242</td>\n",
       "      <td>2017-08-08</td>\n",
       "      <td>Internet</td>\n",
       "      <td>False</td>\n",
       "      <td>33.41</td>\n",
       "      <td>1</td>\n",
       "    </tr>\n",
       "  </tbody>\n",
       "</table>\n",
       "</div>"
      ],
      "text/plain": [
       "       VISITOR_ID CONNECTED_SESSION  ID_SESSION   SESSION_START_DATE  \\\n",
       "122380     706588               OUI          23  2017-08-08 00:01:29   \n",
       "77723      544416               OUI          22  2017-08-08 00:01:29   \n",
       "122369     706588               OUI          23  2017-08-08 00:01:29   \n",
       "83621      563053               OUI          13  2017-08-08 00:01:32   \n",
       "77717      544416               OUI          22  2017-08-08 00:01:29   \n",
       "\n",
       "                 EVENT_DATE  \\\n",
       "122380  2017-08-08 00:01:29   \n",
       "77723   2017-08-08 00:01:29   \n",
       "122369  2017-08-08 00:01:32   \n",
       "83621   2017-08-08 00:01:32   \n",
       "77717   2017-08-08 00:01:53   \n",
       "\n",
       "                                                    PAGES GLOBAL_SOURCES  \\\n",
       "122380                                    ajout au panier   Accès Direct   \n",
       "77723   category 1::category 1 uni::fiche produit::-64...   Accès Direct   \n",
       "122369                                            accueil   Accès Direct   \n",
       "83621                                          mon panier   Accès Direct   \n",
       "77717                                              soldes   Accès Direct   \n",
       "\n",
       "       DEVICE_TYPE DEVICE_MODEL  LOADINGS        DATE         CLIENT_NUMBER  \\\n",
       "122380  Ordinateur          NaN         1  2017-08-08  -7174350147193854740   \n",
       "77723   Ordinateur          NaN         1  2017-08-08   8969790064941805242   \n",
       "122369  Ordinateur          NaN         1  2017-08-08  -7174350147193854740   \n",
       "83621   Ordinateur          NaN         1  2017-08-08  -5859629033836166974   \n",
       "77717   Ordinateur          NaN         1  2017-08-08   8969790064941805242   \n",
       "\n",
       "        ORDER_DATE ORDER_CHANNEL  PROMO  AVG_EXPENSE  COUNT  \n",
       "122380  2017-08-08      Internet  False        19.08      1  \n",
       "77723   2017-08-08      Internet  False        33.41      1  \n",
       "122369  2017-08-08      Internet  False        19.08      1  \n",
       "83621   2017-08-08      Internet  False       140.17      2  \n",
       "77717   2017-08-08      Internet  False        33.41      1  "
      ]
     },
     "execution_count": 2,
     "metadata": {},
     "output_type": "execute_result"
    }
   ],
   "source": [
    "data.head()"
   ]
  },
  {
   "cell_type": "code",
   "execution_count": 5,
   "metadata": {},
   "outputs": [],
   "source": [
    "data.to_csv('order_backup.csv')"
   ]
  },
  {
   "cell_type": "code",
   "execution_count": 11,
   "metadata": {
    "scrolled": false
   },
   "outputs": [
    {
     "ename": "TypeError",
     "evalue": "'Index' object is not callable",
     "output_type": "error",
     "traceback": [
      "\u001b[1;31m---------------------------------------------------------------------------\u001b[0m",
      "\u001b[1;31mTypeError\u001b[0m                                 Traceback (most recent call last)",
      "\u001b[1;32m<ipython-input-11-05cf52d0a56e>\u001b[0m in \u001b[0;36m<module>\u001b[1;34m()\u001b[0m\n\u001b[1;32m----> 1\u001b[1;33m \u001b[0mdata\u001b[0m\u001b[1;33m.\u001b[0m\u001b[0mcolumns\u001b[0m\u001b[1;33m(\u001b[0m\u001b[1;33m)\u001b[0m\u001b[1;33m\u001b[0m\u001b[0m\n\u001b[0m",
      "\u001b[1;31mTypeError\u001b[0m: 'Index' object is not callable"
     ]
    }
   ],
   "source": [
    "data.columns()"
   ]
  },
  {
   "cell_type": "code",
   "execution_count": null,
   "metadata": {
    "scrolled": true
   },
   "outputs": [],
   "source": []
  },
  {
   "cell_type": "code",
   "execution_count": null,
   "metadata": {},
   "outputs": [],
   "source": []
  },
  {
   "cell_type": "code",
   "execution_count": null,
   "metadata": {},
   "outputs": [],
   "source": []
  },
  {
   "cell_type": "code",
   "execution_count": null,
   "metadata": {},
   "outputs": [],
   "source": []
  },
  {
   "cell_type": "code",
   "execution_count": null,
   "metadata": {},
   "outputs": [],
   "source": []
  },
  {
   "cell_type": "code",
   "execution_count": null,
   "metadata": {
    "scrolled": true
   },
   "outputs": [],
   "source": []
  },
  {
   "cell_type": "code",
   "execution_count": 9,
   "metadata": {
    "scrolled": true
   },
   "outputs": [],
   "source": [
    "tmp = data[['CLIENT_NUMBER', 'VISITOR_ID', 'ID_SESSION', 'SESSION_START_DATE', 'GLOBAL_SOURCES', 'DEVICE_TYPE', 'DATE', 'ORDER_CHANNEL', 'PROMO', 'AVG_EXPENSE', 'MINUTES_ONLINE', 'UNIQUE_PAGES']]\n",
    "tmp = tmp.groupby(['CLIENT_NUMBER', 'VISITOR_ID', 'ID_SESSION', 'GLOBAL_SOURCES', 'DEVICE_TYPE', 'DATE', 'ORDER_CHANNEL', 'PROMO', 'AVG_EXPENSE', 'MINUTES_ONLINE', 'UNIQUE_PAGES']).count().reset_index()"
   ]
  },
  {
   "cell_type": "code",
   "execution_count": 10,
   "metadata": {},
   "outputs": [
    {
     "data": {
      "text/html": [
       "<div>\n",
       "<style scoped>\n",
       "    .dataframe tbody tr th:only-of-type {\n",
       "        vertical-align: middle;\n",
       "    }\n",
       "\n",
       "    .dataframe tbody tr th {\n",
       "        vertical-align: top;\n",
       "    }\n",
       "\n",
       "    .dataframe thead th {\n",
       "        text-align: right;\n",
       "    }\n",
       "</style>\n",
       "<table border=\"1\" class=\"dataframe\">\n",
       "  <thead>\n",
       "    <tr style=\"text-align: right;\">\n",
       "      <th></th>\n",
       "      <th>CLIENT_NUMBER</th>\n",
       "      <th>VISITOR_ID</th>\n",
       "      <th>ID_SESSION</th>\n",
       "      <th>GLOBAL_SOURCES</th>\n",
       "      <th>DEVICE_TYPE</th>\n",
       "      <th>DATE</th>\n",
       "      <th>ORDER_CHANNEL</th>\n",
       "      <th>PROMO</th>\n",
       "      <th>AVG_EXPENSE</th>\n",
       "      <th>MINUTES_ONLINE</th>\n",
       "      <th>UNIQUE_PAGES</th>\n",
       "    </tr>\n",
       "  </thead>\n",
       "  <tbody>\n",
       "    <tr>\n",
       "      <th>0</th>\n",
       "      <td>-1008458086851481944</td>\n",
       "      <td>708578</td>\n",
       "      <td>13945</td>\n",
       "      <td>Accès Direct</td>\n",
       "      <td>Ordinateur</td>\n",
       "      <td>2017-08-19</td>\n",
       "      <td>Internet</td>\n",
       "      <td>False</td>\n",
       "      <td>129.5</td>\n",
       "      <td>14.983333</td>\n",
       "      <td>9</td>\n",
       "    </tr>\n",
       "    <tr>\n",
       "      <th>1</th>\n",
       "      <td>-1008458086851481944</td>\n",
       "      <td>708578</td>\n",
       "      <td>18235</td>\n",
       "      <td>Liens Sponsorisés</td>\n",
       "      <td>Ordinateur</td>\n",
       "      <td>2017-08-19</td>\n",
       "      <td>Internet</td>\n",
       "      <td>False</td>\n",
       "      <td>129.5</td>\n",
       "      <td>0.283333</td>\n",
       "      <td>3</td>\n",
       "    </tr>\n",
       "  </tbody>\n",
       "</table>\n",
       "</div>"
      ],
      "text/plain": [
       "          CLIENT_NUMBER VISITOR_ID  ID_SESSION     GLOBAL_SOURCES DEVICE_TYPE  \\\n",
       "0  -1008458086851481944     708578       13945       Accès Direct  Ordinateur   \n",
       "1  -1008458086851481944     708578       18235  Liens Sponsorisés  Ordinateur   \n",
       "\n",
       "         DATE ORDER_CHANNEL  PROMO  AVG_EXPENSE  MINUTES_ONLINE  UNIQUE_PAGES  \n",
       "0  2017-08-19      Internet  False        129.5       14.983333             9  \n",
       "1  2017-08-19      Internet  False        129.5        0.283333             3  "
      ]
     },
     "execution_count": 10,
     "metadata": {},
     "output_type": "execute_result"
    }
   ],
   "source": [
    "tmp[tmp.CLIENT_NUMBER == '-1008458086851481944']"
   ]
  },
  {
   "cell_type": "code",
   "execution_count": null,
   "metadata": {},
   "outputs": [],
   "source": []
  },
  {
   "cell_type": "code",
   "execution_count": null,
   "metadata": {},
   "outputs": [],
   "source": []
  },
  {
   "cell_type": "code",
   "execution_count": null,
   "metadata": {},
   "outputs": [],
   "source": []
  },
  {
   "cell_type": "code",
   "execution_count": null,
   "metadata": {},
   "outputs": [],
   "source": []
  },
  {
   "cell_type": "code",
   "execution_count": null,
   "metadata": {},
   "outputs": [],
   "source": []
  },
  {
   "cell_type": "code",
   "execution_count": null,
   "metadata": {},
   "outputs": [],
   "source": []
  },
  {
   "cell_type": "markdown",
   "metadata": {},
   "source": [
    "# Objective\n",
    "Transform the Data to display features by order"
   ]
  },
  {
   "cell_type": "code",
   "execution_count": null,
   "metadata": {},
   "outputs": [],
   "source": [
    "data = pd.merge(log, table, left_on='VISITOR_ID', right_on='VISITOR_ID', how='left')\n",
    "data = data.sort_values(['CLIENT_NUMBER', 'EVENT_DATE'])"
   ]
  },
  {
   "cell_type": "code",
   "execution_count": null,
   "metadata": {},
   "outputs": [],
   "source": []
  },
  {
   "cell_type": "code",
   "execution_count": null,
   "metadata": {},
   "outputs": [],
   "source": []
  },
  {
   "cell_type": "code",
   "execution_count": null,
   "metadata": {},
   "outputs": [],
   "source": [
    "cmd"
   ]
  },
  {
   "cell_type": "code",
   "execution_count": null,
   "metadata": {},
   "outputs": [],
   "source": [
    "for client in data.CLIENT_NUMBER.unique():\n",
    "    print(client)"
   ]
  },
  {
   "cell_type": "code",
   "execution_count": null,
   "metadata": {},
   "outputs": [],
   "source": []
  },
  {
   "cell_type": "code",
   "execution_count": null,
   "metadata": {},
   "outputs": [],
   "source": [
    "cmd.groupby(['CLIENT_NUMBER', 'ORDER_DATE', 'ORDER_CHANNEL']).mean().reset_index()#.PRE_TAX_AMOUNT"
   ]
  },
  {
   "cell_type": "code",
   "execution_count": null,
   "metadata": {},
   "outputs": [],
   "source": []
  },
  {
   "cell_type": "code",
   "execution_count": null,
   "metadata": {},
   "outputs": [],
   "source": []
  },
  {
   "cell_type": "code",
   "execution_count": null,
   "metadata": {},
   "outputs": [],
   "source": []
  },
  {
   "cell_type": "code",
   "execution_count": null,
   "metadata": {},
   "outputs": [],
   "source": []
  },
  {
   "cell_type": "code",
   "execution_count": null,
   "metadata": {},
   "outputs": [],
   "source": []
  },
  {
   "cell_type": "code",
   "execution_count": null,
   "metadata": {},
   "outputs": [],
   "source": []
  },
  {
   "cell_type": "code",
   "execution_count": null,
   "metadata": {},
   "outputs": [],
   "source": []
  },
  {
   "cell_type": "code",
   "execution_count": null,
   "metadata": {},
   "outputs": [],
   "source": []
  },
  {
   "cell_type": "code",
   "execution_count": null,
   "metadata": {},
   "outputs": [],
   "source": []
  },
  {
   "cell_type": "code",
   "execution_count": null,
   "metadata": {},
   "outputs": [],
   "source": []
  },
  {
   "cell_type": "code",
   "execution_count": null,
   "metadata": {},
   "outputs": [],
   "source": []
  },
  {
   "cell_type": "code",
   "execution_count": null,
   "metadata": {},
   "outputs": [],
   "source": []
  },
  {
   "cell_type": "code",
   "execution_count": null,
   "metadata": {},
   "outputs": [],
   "source": []
  },
  {
   "cell_type": "code",
   "execution_count": null,
   "metadata": {},
   "outputs": [],
   "source": []
  },
  {
   "cell_type": "code",
   "execution_count": null,
   "metadata": {},
   "outputs": [],
   "source": []
  },
  {
   "cell_type": "code",
   "execution_count": null,
   "metadata": {},
   "outputs": [],
   "source": []
  },
  {
   "cell_type": "code",
   "execution_count": null,
   "metadata": {},
   "outputs": [],
   "source": []
  }
 ],
 "metadata": {
  "kernelspec": {
   "display_name": "Python 3",
   "language": "python",
   "name": "python3"
  },
  "language_info": {
   "codemirror_mode": {
    "name": "ipython",
    "version": 3
   },
   "file_extension": ".py",
   "mimetype": "text/x-python",
   "name": "python",
   "nbconvert_exporter": "python",
   "pygments_lexer": "ipython3",
   "version": "3.6.5"
  }
 },
 "nbformat": 4,
 "nbformat_minor": 2
}
